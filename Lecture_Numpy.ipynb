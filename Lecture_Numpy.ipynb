{
 "cells": [
  {
   "cell_type": "markdown",
   "id": "3f13d08f-9baa-4984-80e1-28cca9fd35ed",
   "metadata": {},
   "source": [
    "# NumPy Lecture"
   ]
  },
  {
   "cell_type": "markdown",
   "id": "dbb265a4-1e60-4b03-a67d-7f78775c87bc",
   "metadata": {},
   "source": [
    "### Imports"
   ]
  },
  {
   "cell_type": "code",
   "execution_count": 1,
   "id": "d838280c-2b87-4ad1-a60e-c418aad7ba48",
   "metadata": {},
   "outputs": [],
   "source": [
    "import numpy as np"
   ]
  },
  {
   "cell_type": "markdown",
   "id": "6dada437-6593-450e-bf55-df49382b634a",
   "metadata": {},
   "source": [
    "## What is an array? \n",
    "\n",
    "It is a super charged array"
   ]
  },
  {
   "cell_type": "code",
   "execution_count": 4,
   "id": "e2be6cc1-08b1-4d0a-839a-6418e6c8659f",
   "metadata": {},
   "outputs": [
    {
     "data": {
      "text/plain": [
       "array([1, 2, 3, 4, 5])"
      ]
     },
     "execution_count": 4,
     "metadata": {},
     "output_type": "execute_result"
    }
   ],
   "source": [
    "np.array([1, 2, 3, 4, 5])"
   ]
  },
  {
   "cell_type": "code",
   "execution_count": 5,
   "id": "560652fd-9c8b-4520-a8a4-e3f26f6a368b",
   "metadata": {},
   "outputs": [],
   "source": [
    "my_array = np.array([1, 2, 3, 4, 5])"
   ]
  },
  {
   "cell_type": "code",
   "execution_count": 6,
   "id": "917daaf9-6808-4aa6-98d8-918751914da8",
   "metadata": {},
   "outputs": [],
   "source": [
    "my_list = [1, 2, 3, 4, 5]"
   ]
  },
  {
   "cell_type": "markdown",
   "id": "8801493d-1fda-47c3-97b7-21054962d912",
   "metadata": {},
   "source": [
    "## Accessing a list"
   ]
  },
  {
   "cell_type": "code",
   "execution_count": 8,
   "id": "85be61bd-24e7-4385-9013-6cd5277516b1",
   "metadata": {},
   "outputs": [],
   "source": [
    "list_of_lists = [\n",
    "    [1,2,3],\n",
    "    [4,5,6],\n",
    "    [7,8,9]\n",
    "]"
   ]
  },
  {
   "cell_type": "code",
   "execution_count": 10,
   "id": "6705ed24-c60a-4982-8d5e-ab4f4d1d8954",
   "metadata": {},
   "outputs": [
    {
     "data": {
      "text/plain": [
       "5"
      ]
     },
     "execution_count": 10,
     "metadata": {},
     "output_type": "execute_result"
    }
   ],
   "source": [
    "list_of_lists[1][1]"
   ]
  },
  {
   "cell_type": "markdown",
   "id": "640de482-d116-4cec-8a5f-e9ce416f05c0",
   "metadata": {},
   "source": [
    "## Accessing an NP array\n",
    "\n",
    "Matrix[row, column]"
   ]
  },
  {
   "cell_type": "code",
   "execution_count": 12,
   "id": "915beecb-243f-45e8-8253-7ea1a69e3d13",
   "metadata": {},
   "outputs": [],
   "source": [
    "matrix= np.array([\n",
    "    [1,2,3],\n",
    "    [4,5,6],\n",
    "    [7,8,9]\n",
    "])"
   ]
  },
  {
   "cell_type": "code",
   "execution_count": 13,
   "id": "a4b6c29f-1580-40d6-8ac4-313963aeee56",
   "metadata": {},
   "outputs": [
    {
     "data": {
      "text/plain": [
       "5"
      ]
     },
     "execution_count": 13,
     "metadata": {},
     "output_type": "execute_result"
    }
   ],
   "source": [
    "matrix[1,1]"
   ]
  },
  {
   "cell_type": "markdown",
   "id": "ba50706f-b8e9-438b-b8a3-bcc8258a1bf9",
   "metadata": {},
   "source": [
    "## We can access multiple elements in an array using slicing, like we did with lists"
   ]
  },
  {
   "cell_type": "code",
   "execution_count": 14,
   "id": "9b5ca40d-f267-4efe-9138-dd6f05a50146",
   "metadata": {},
   "outputs": [
    {
     "data": {
      "text/plain": [
       "[2, 3, 4, 5]"
      ]
     },
     "execution_count": 14,
     "metadata": {},
     "output_type": "execute_result"
    }
   ],
   "source": [
    "my_list[1:]"
   ]
  },
  {
   "cell_type": "code",
   "execution_count": 15,
   "id": "21029cdf-7460-4e06-ba52-445857bfac7b",
   "metadata": {},
   "outputs": [
    {
     "data": {
      "text/plain": [
       "array([2, 3, 4, 5])"
      ]
     },
     "execution_count": 15,
     "metadata": {},
     "output_type": "execute_result"
    }
   ],
   "source": [
    "my_array[1:]"
   ]
  },
  {
   "cell_type": "code",
   "execution_count": 17,
   "id": "920d5793-40e2-4967-b2ee-f919f97b37df",
   "metadata": {},
   "outputs": [
    {
     "data": {
      "text/plain": [
       "array([[1, 2, 3],\n",
       "       [4, 5, 6],\n",
       "       [7, 8, 9]])"
      ]
     },
     "execution_count": 17,
     "metadata": {},
     "output_type": "execute_result"
    }
   ],
   "source": [
    "matrix"
   ]
  },
  {
   "cell_type": "code",
   "execution_count": 16,
   "id": "f355a13d-2f08-4394-8222-cf95f2d69d8d",
   "metadata": {},
   "outputs": [
    {
     "data": {
      "text/plain": [
       "array([[4, 5],\n",
       "       [7, 8]])"
      ]
     },
     "execution_count": 16,
     "metadata": {},
     "output_type": "execute_result"
    }
   ],
   "source": [
    "matrix[1:,:2]"
   ]
  },
  {
   "cell_type": "markdown",
   "id": "6206a26a-686a-4659-9b49-6aa31628d30d",
   "metadata": {},
   "source": [
    "## Indexing with a boolean sequence, also known as a boolean mask"
   ]
  },
  {
   "cell_type": "code",
   "execution_count": 18,
   "id": "909a3dcb-1da9-4bdc-a560-73ffb6689c9e",
   "metadata": {},
   "outputs": [
    {
     "data": {
      "text/plain": [
       "array([1, 2, 3, 4, 5])"
      ]
     },
     "execution_count": 18,
     "metadata": {},
     "output_type": "execute_result"
    }
   ],
   "source": [
    "my_array"
   ]
  },
  {
   "cell_type": "code",
   "execution_count": 19,
   "id": "e30d3007-3745-4782-aa50-6f449cbb2ad6",
   "metadata": {},
   "outputs": [],
   "source": [
    "mask= [False, True, False, True, False]"
   ]
  },
  {
   "cell_type": "code",
   "execution_count": 20,
   "id": "5fb16fb3-6dca-469d-af94-83fac7f12dde",
   "metadata": {},
   "outputs": [
    {
     "data": {
      "text/plain": [
       "array([2, 4])"
      ]
     },
     "execution_count": 20,
     "metadata": {},
     "output_type": "execute_result"
    }
   ],
   "source": [
    "my_array[mask]"
   ]
  },
  {
   "cell_type": "markdown",
   "id": "6a60a7f1-b9b7-496b-9618-841c8e66030a",
   "metadata": {},
   "source": [
    "## Vectorized Operations\n",
    "\n",
    "### Adding 1 to every element of a list\n",
    "### fails to just say list +1"
   ]
  },
  {
   "cell_type": "code",
   "execution_count": 21,
   "id": "820ec45f-c467-442e-8feb-04d42e3d080f",
   "metadata": {},
   "outputs": [
    {
     "data": {
      "text/plain": [
       "[1, 2, 3, 4, 5]"
      ]
     },
     "execution_count": 21,
     "metadata": {},
     "output_type": "execute_result"
    }
   ],
   "source": [
    "my_list"
   ]
  },
  {
   "cell_type": "code",
   "execution_count": null,
   "id": "02da8793-7d8c-4770-a86a-309c568c6a43",
   "metadata": {},
   "outputs": [],
   "source": [
    "my_list + 1 # it doesn't work like this"
   ]
  },
  {
   "cell_type": "markdown",
   "id": "a016866d-fbf3-4b13-b29d-bdb2ac847c4a",
   "metadata": {},
   "source": [
    "### Must use for loop with lists"
   ]
  },
  {
   "cell_type": "code",
   "execution_count": 24,
   "id": "3c76974c-ea73-410a-93f9-2a454ccdd9bf",
   "metadata": {},
   "outputs": [
    {
     "data": {
      "text/plain": [
       "[2, 3, 4, 5, 6]"
      ]
     },
     "execution_count": 24,
     "metadata": {},
     "output_type": "execute_result"
    }
   ],
   "source": [
    "list_with_one_added = []\n",
    "for i in my_list:\n",
    "    list_with_one_added.append(i+1)\n",
    "    \n",
    "list_with_one_added"
   ]
  },
  {
   "cell_type": "markdown",
   "id": "a5ea69e5-3f5d-4913-872e-0121e5c40d8e",
   "metadata": {},
   "source": [
    "## But with NumPy"
   ]
  },
  {
   "cell_type": "code",
   "execution_count": 25,
   "id": "924697f6-3071-4605-80f1-2be5b61d35ca",
   "metadata": {},
   "outputs": [
    {
     "data": {
      "text/plain": [
       "array([1, 2, 3, 4, 5])"
      ]
     },
     "execution_count": 25,
     "metadata": {},
     "output_type": "execute_result"
    }
   ],
   "source": [
    "my_array"
   ]
  },
  {
   "cell_type": "code",
   "execution_count": 26,
   "id": "20553bf6-0788-4354-aceb-43a52a9188a5",
   "metadata": {},
   "outputs": [
    {
     "data": {
      "text/plain": [
       "array([2, 3, 4, 5, 6])"
      ]
     },
     "execution_count": 26,
     "metadata": {},
     "output_type": "execute_result"
    }
   ],
   "source": [
    "my_array + 1"
   ]
  },
  {
   "cell_type": "markdown",
   "id": "bea00c81-cc4a-4c36-afdd-711768b60b3d",
   "metadata": {},
   "source": [
    "### Because it is a nondestructive operation, the result of the Vectorized Numpy operation must be stored somewhere or it won't exist for future reference"
   ]
  },
  {
   "cell_type": "code",
   "execution_count": 27,
   "id": "e61b9436-e864-4fe8-afff-2669476580d6",
   "metadata": {},
   "outputs": [
    {
     "data": {
      "text/plain": [
       "array([1, 0, 1, 0, 1])"
      ]
     },
     "execution_count": 27,
     "metadata": {},
     "output_type": "execute_result"
    }
   ],
   "source": [
    "my_array % 2"
   ]
  },
  {
   "cell_type": "code",
   "execution_count": 28,
   "id": "6ab0cb3c-24fc-4131-aef1-7947a9f8da2e",
   "metadata": {},
   "outputs": [
    {
     "data": {
      "text/plain": [
       "array([ 2,  4,  6,  8, 10])"
      ]
     },
     "execution_count": 28,
     "metadata": {},
     "output_type": "execute_result"
    }
   ],
   "source": [
    "my_array * 2"
   ]
  },
  {
   "cell_type": "code",
   "execution_count": 32,
   "id": "fb6cc380-9d00-4fc5-96f2-c0b26ab1f582",
   "metadata": {},
   "outputs": [
    {
     "data": {
      "text/plain": [
       "array([1, 0, 1, 0, 1])"
      ]
     },
     "execution_count": 32,
     "metadata": {},
     "output_type": "execute_result"
    }
   ],
   "source": [
    "my_array % 2"
   ]
  },
  {
   "cell_type": "code",
   "execution_count": 29,
   "id": "edfaa5e0-2a5c-46b6-8e16-8f00f3972451",
   "metadata": {},
   "outputs": [
    {
     "data": {
      "text/plain": [
       "array([False, False,  True,  True,  True])"
      ]
     },
     "execution_count": 29,
     "metadata": {},
     "output_type": "execute_result"
    }
   ],
   "source": [
    "my_array > 2"
   ]
  },
  {
   "cell_type": "markdown",
   "id": "e76ee28d-6574-474e-88ef-ee9b086dc728",
   "metadata": {},
   "source": [
    "### Look at this boolean mask trick"
   ]
  },
  {
   "cell_type": "code",
   "execution_count": 30,
   "id": "64776649-93dd-416d-945c-2530e46fb1c5",
   "metadata": {},
   "outputs": [
    {
     "data": {
      "text/plain": [
       "array([3, 4, 5])"
      ]
     },
     "execution_count": 30,
     "metadata": {},
     "output_type": "execute_result"
    }
   ],
   "source": [
    "my_array[my_array > 2]"
   ]
  },
  {
   "cell_type": "markdown",
   "id": "0f9d6ded-aac6-44d1-8f25-f651fdccc2b1",
   "metadata": {},
   "source": [
    "### We can use this boolean array to get back values that return True"
   ]
  },
  {
   "cell_type": "code",
   "execution_count": 31,
   "id": "41e8af52-f419-4486-9dcf-f89a3511ede2",
   "metadata": {},
   "outputs": [
    {
     "data": {
      "text/plain": [
       "array([2, 4])"
      ]
     },
     "execution_count": 31,
     "metadata": {},
     "output_type": "execute_result"
    }
   ],
   "source": [
    "my_array[my_array % 2 == 0]"
   ]
  },
  {
   "cell_type": "code",
   "execution_count": null,
   "id": "0b504cc4-b0d2-4378-bdb2-07244fe89b34",
   "metadata": {},
   "outputs": [],
   "source": []
  },
  {
   "cell_type": "code",
   "execution_count": 33,
   "id": "9fc8d009-8a54-4f3a-8194-50299d62d895",
   "metadata": {},
   "outputs": [
    {
     "data": {
      "text/plain": [
       "array([0., 0., 0.])"
      ]
     },
     "execution_count": 33,
     "metadata": {},
     "output_type": "execute_result"
    }
   ],
   "source": [
    "np.zeros(3)"
   ]
  },
  {
   "cell_type": "code",
   "execution_count": 34,
   "id": "2f209c21-891c-43aa-bd0a-c9ab73801a41",
   "metadata": {},
   "outputs": [
    {
     "data": {
      "text/plain": [
       "array([[0., 0., 0.],\n",
       "       [0., 0., 0.],\n",
       "       [0., 0., 0.]])"
      ]
     },
     "execution_count": 34,
     "metadata": {},
     "output_type": "execute_result"
    }
   ],
   "source": [
    "np.zeros((3,3,))"
   ]
  },
  {
   "cell_type": "code",
   "execution_count": 35,
   "id": "2503a6af-17c7-403d-8bd3-7b8ef774c27f",
   "metadata": {},
   "outputs": [
    {
     "data": {
      "text/plain": [
       "array([1., 1., 1.])"
      ]
     },
     "execution_count": 35,
     "metadata": {},
     "output_type": "execute_result"
    }
   ],
   "source": [
    "np.ones(3)"
   ]
  },
  {
   "cell_type": "code",
   "execution_count": 36,
   "id": "5e78fa6b-6e99-4bf2-ada6-2dfc28ba399b",
   "metadata": {},
   "outputs": [
    {
     "data": {
      "text/plain": [
       "array([15, 15, 15])"
      ]
     },
     "execution_count": 36,
     "metadata": {},
     "output_type": "execute_result"
    }
   ],
   "source": [
    "np.full(3,15) # one dimensional array with 15's in each slot"
   ]
  },
  {
   "cell_type": "code",
   "execution_count": 37,
   "id": "30db7fcb-42a6-4fc7-8990-ed89cf10d6ba",
   "metadata": {},
   "outputs": [
    {
     "data": {
      "text/plain": [
       "array([[15, 15, 15],\n",
       "       [15, 15, 15],\n",
       "       [15, 15, 15]])"
      ]
     },
     "execution_count": 37,
     "metadata": {},
     "output_type": "execute_result"
    }
   ],
   "source": [
    "np.full((3,3), 15) # two dimensional array with 15's in each slot"
   ]
  },
  {
   "cell_type": "markdown",
   "id": "f9702e98-b4ab-4069-942c-1463ccb87245",
   "metadata": {},
   "source": [
    "## np.arange()"
   ]
  },
  {
   "cell_type": "code",
   "execution_count": 38,
   "id": "8cca793f-b1fa-4d23-b865-519b088b0ceb",
   "metadata": {},
   "outputs": [
    {
     "data": {
      "text/plain": [
       "array([0, 1, 2, 3, 4, 5, 6, 7, 8, 9])"
      ]
     },
     "execution_count": 38,
     "metadata": {},
     "output_type": "execute_result"
    }
   ],
   "source": [
    "np.arange(10)"
   ]
  },
  {
   "cell_type": "code",
   "execution_count": 39,
   "id": "bcd64045-c317-4e56-832a-2544dbeacbb5",
   "metadata": {},
   "outputs": [
    {
     "data": {
      "text/plain": [
       "array([1, 2, 3, 4, 5, 6, 7, 8, 9])"
      ]
     },
     "execution_count": 39,
     "metadata": {},
     "output_type": "execute_result"
    }
   ],
   "source": [
    "np.arange(1,10)"
   ]
  },
  {
   "cell_type": "code",
   "execution_count": null,
   "id": "f5dd944e-b2eb-4a7b-becd-6e74aac0b8cc",
   "metadata": {},
   "outputs": [],
   "source": []
  },
  {
   "cell_type": "code",
   "execution_count": null,
   "id": "c1e27e56-0a0f-4727-95c3-dec0d56bbe6e",
   "metadata": {},
   "outputs": [],
   "source": []
  },
  {
   "cell_type": "code",
   "execution_count": 40,
   "id": "82ebbc3a-83b0-40c7-955c-ded87469f3d5",
   "metadata": {},
   "outputs": [
    {
     "data": {
      "text/plain": [
       "3.0"
      ]
     },
     "execution_count": 40,
     "metadata": {},
     "output_type": "execute_result"
    }
   ],
   "source": [
    "my_array.mean()"
   ]
  },
  {
   "cell_type": "code",
   "execution_count": 41,
   "id": "e8d88ae8-9e31-4cc3-a392-bba5672c61e6",
   "metadata": {},
   "outputs": [
    {
     "data": {
      "text/plain": [
       "1.4142135623730951"
      ]
     },
     "execution_count": 41,
     "metadata": {},
     "output_type": "execute_result"
    }
   ],
   "source": [
    "my_array.std()"
   ]
  },
  {
   "cell_type": "code",
   "execution_count": 42,
   "id": "30c9f533-1b6a-4dba-84a2-aeff29c9fa4f",
   "metadata": {},
   "outputs": [
    {
     "data": {
      "text/plain": [
       "5.0"
      ]
     },
     "execution_count": 42,
     "metadata": {},
     "output_type": "execute_result"
    }
   ],
   "source": [
    "matrix.mean()"
   ]
  },
  {
   "cell_type": "code",
   "execution_count": 43,
   "id": "39982161-d954-4760-84fe-4223d6bef725",
   "metadata": {},
   "outputs": [
    {
     "data": {
      "text/plain": [
       "2.581988897471611"
      ]
     },
     "execution_count": 43,
     "metadata": {},
     "output_type": "execute_result"
    }
   ],
   "source": [
    "matrix.std()"
   ]
  },
  {
   "cell_type": "code",
   "execution_count": null,
   "id": "043bbe6e-6739-4d64-abfe-d99a442382f1",
   "metadata": {},
   "outputs": [],
   "source": []
  }
 ],
 "metadata": {
  "kernelspec": {
   "display_name": "Python 3 (ipykernel)",
   "language": "python",
   "name": "python3"
  },
  "language_info": {
   "codemirror_mode": {
    "name": "ipython",
    "version": 3
   },
   "file_extension": ".py",
   "mimetype": "text/x-python",
   "name": "python",
   "nbconvert_exporter": "python",
   "pygments_lexer": "ipython3",
   "version": "3.10.6"
  }
 },
 "nbformat": 4,
 "nbformat_minor": 5
}
