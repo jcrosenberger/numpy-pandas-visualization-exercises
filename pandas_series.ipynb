{
 "cells": [
  {
   "cell_type": "code",
   "execution_count": 2,
   "id": "eaaaf939-b066-4a0b-9dbd-fca2803db6db",
   "metadata": {},
   "outputs": [],
   "source": [
    "import numpy as np\n",
    "import pandas as pd\n",
    "from pydataset import data"
   ]
  },
  {
   "cell_type": "code",
   "execution_count": 3,
   "id": "c6bffefb-a1b6-4afd-bdbc-a64e5051bbf4",
   "metadata": {},
   "outputs": [],
   "source": [
    "my_list = [\"kiwi\", \"mango\", \"strawberry\", \"pineapple\", \"gala apple\", \"honeycrisp apple\", \"tomato\", \"watermelon\", \"honeydew\", \"kiwi\", \"kiwi\", \"kiwi\", \"mango\", \"blueberry\", \"blackberry\", \"gooseberry\", \"papaya\"]\n",
    "s1 = pd.Series(my_list)"
   ]
  },
  {
   "cell_type": "markdown",
   "id": "17d36957-8852-4d05-b7ed-b17d816704eb",
   "metadata": {},
   "source": [
    "## Exercies Part I"
   ]
  },
  {
   "cell_type": "markdown",
   "id": "0be69e94-4a5f-4b66-ab25-62c1f717cc6e",
   "metadata": {},
   "source": [
    "### One"
   ]
  },
  {
   "cell_type": "code",
   "execution_count": 4,
   "id": "5a03951b-97fd-4b1b-9a7e-76bea9539ac9",
   "metadata": {},
   "outputs": [
    {
     "name": "stdout",
     "output_type": "stream",
     "text": [
      "17\n"
     ]
    }
   ],
   "source": [
    "print(s1.count())"
   ]
  },
  {
   "cell_type": "markdown",
   "id": "3d459d1f-9e6c-4d4d-afa9-f14f91f1bef8",
   "metadata": {},
   "source": [
    "### Two"
   ]
  },
  {
   "cell_type": "code",
   "execution_count": 5,
   "id": "348e5e14-9b47-47c4-9250-8e0835a07a4a",
   "metadata": {},
   "outputs": [
    {
     "name": "stdout",
     "output_type": "stream",
     "text": [
      "RangeIndex(start=0, stop=17, step=1)\n"
     ]
    }
   ],
   "source": [
    "# presenting one type of index output\n",
    "print(s1.index)"
   ]
  },
  {
   "cell_type": "code",
   "execution_count": 6,
   "id": "417d645b-7a4c-4ce1-a759-dc6c75d3d2f1",
   "metadata": {},
   "outputs": [
    {
     "data": {
      "text/plain": [
       "[0, 1, 2, 3, 4, 5, 6, 7, 8, 9, 10, 11, 12, 13, 14, 15, 16]"
      ]
     },
     "execution_count": 6,
     "metadata": {},
     "output_type": "execute_result"
    }
   ],
   "source": [
    "# if we are attempting to get every item of the range, we can cast it as a list:\n",
    "list(s1.index)"
   ]
  },
  {
   "cell_type": "markdown",
   "id": "702cc2c4-2901-47d7-8975-7f176a45d403",
   "metadata": {},
   "source": [
    "### Three"
   ]
  },
  {
   "cell_type": "code",
   "execution_count": 21,
   "id": "d7edb821-c0ab-4981-b7e7-bc52a60aef0e",
   "metadata": {},
   "outputs": [
    {
     "name": "stdout",
     "output_type": "stream",
     "text": [
      "['kiwi' 'mango' 'strawberry' 'pineapple' 'gala apple' 'honeycrisp apple'\n",
      " 'tomato' 'watermelon' 'honeydew' 'kiwi' 'kiwi' 'kiwi' 'mango' 'blueberry'\n",
      " 'blackberry' 'gooseberry' 'papaya']\n"
     ]
    }
   ],
   "source": [
    "print(s1.values)"
   ]
  },
  {
   "cell_type": "markdown",
   "id": "dff70d90-894c-4126-9575-91ae5cdc8c13",
   "metadata": {},
   "source": [
    "### Four"
   ]
  },
  {
   "cell_type": "code",
   "execution_count": 8,
   "id": "10544e0f-ec6d-4b13-af22-317d984709df",
   "metadata": {},
   "outputs": [
    {
     "data": {
      "text/plain": [
       "dtype('O')"
      ]
     },
     "execution_count": 8,
     "metadata": {},
     "output_type": "execute_result"
    }
   ],
   "source": [
    "# looking for the dtype\n",
    "s1.dtype"
   ]
  },
  {
   "cell_type": "markdown",
   "id": "51212eba-6998-460e-bcd9-60377f4d1257",
   "metadata": {},
   "source": [
    "### Five\n",
    "getting into method calls, that is functions which require passing something to it"
   ]
  },
  {
   "cell_type": "code",
   "execution_count": 10,
   "id": "4654e5c0-b4f4-43fb-8f7e-f28bd807ee16",
   "metadata": {},
   "outputs": [
    {
     "data": {
      "text/plain": [
       "\u001b[0;31mSignature:\u001b[0m \u001b[0mpd\u001b[0m\u001b[0;34m.\u001b[0m\u001b[0mSeries\u001b[0m\u001b[0;34m.\u001b[0m\u001b[0mhead\u001b[0m\u001b[0;34m(\u001b[0m\u001b[0mself\u001b[0m\u001b[0;34m:\u001b[0m \u001b[0;34m'NDFrameT'\u001b[0m\u001b[0;34m,\u001b[0m \u001b[0mn\u001b[0m\u001b[0;34m:\u001b[0m \u001b[0;34m'int'\u001b[0m \u001b[0;34m=\u001b[0m \u001b[0;36m5\u001b[0m\u001b[0;34m)\u001b[0m \u001b[0;34m->\u001b[0m \u001b[0;34m'NDFrameT'\u001b[0m\u001b[0;34m\u001b[0m\u001b[0;34m\u001b[0m\u001b[0m\n",
       "\u001b[0;31mDocstring:\u001b[0m\n",
       "Return the first `n` rows.\n",
       "\n",
       "This function returns the first `n` rows for the object based\n",
       "on position. It is useful for quickly testing if your object\n",
       "has the right type of data in it.\n",
       "\n",
       "For negative values of `n`, this function returns all rows except\n",
       "the last `n` rows, equivalent to ``df[:-n]``.\n",
       "\n",
       "Parameters\n",
       "----------\n",
       "n : int, default 5\n",
       "    Number of rows to select.\n",
       "\n",
       "Returns\n",
       "-------\n",
       "same type as caller\n",
       "    The first `n` rows of the caller object.\n",
       "\n",
       "See Also\n",
       "--------\n",
       "DataFrame.tail: Returns the last `n` rows.\n",
       "\n",
       "Examples\n",
       "--------\n",
       ">>> df = pd.DataFrame({'animal': ['alligator', 'bee', 'falcon', 'lion',\n",
       "...                    'monkey', 'parrot', 'shark', 'whale', 'zebra']})\n",
       ">>> df\n",
       "      animal\n",
       "0  alligator\n",
       "1        bee\n",
       "2     falcon\n",
       "3       lion\n",
       "4     monkey\n",
       "5     parrot\n",
       "6      shark\n",
       "7      whale\n",
       "8      zebra\n",
       "\n",
       "Viewing the first 5 lines\n",
       "\n",
       ">>> df.head()\n",
       "      animal\n",
       "0  alligator\n",
       "1        bee\n",
       "2     falcon\n",
       "3       lion\n",
       "4     monkey\n",
       "\n",
       "Viewing the first `n` lines (three in this case)\n",
       "\n",
       ">>> df.head(3)\n",
       "      animal\n",
       "0  alligator\n",
       "1        bee\n",
       "2     falcon\n",
       "\n",
       "For negative values of `n`\n",
       "\n",
       ">>> df.head(-3)\n",
       "      animal\n",
       "0  alligator\n",
       "1        bee\n",
       "2     falcon\n",
       "3       lion\n",
       "4     monkey\n",
       "5     parrot\n",
       "\u001b[0;31mFile:\u001b[0m      /usr/local/lib/python3.10/site-packages/pandas/core/generic.py\n",
       "\u001b[0;31mType:\u001b[0m      function\n"
      ]
     },
     "metadata": {},
     "output_type": "display_data"
    }
   ],
   "source": [
    "#recall that you can put a question mark at the end of a method to get help input\n",
    "\n",
    "# or press shift + tab\n",
    "pd.Series.head?"
   ]
  },
  {
   "cell_type": "code",
   "execution_count": 33,
   "id": "8c5c2ac8-79f0-4d9d-9c82-1d0defa3c655",
   "metadata": {},
   "outputs": [
    {
     "name": "stdout",
     "output_type": "stream",
     "text": [
      "0          kiwi\n",
      "1         mango\n",
      "2    strawberry\n",
      "3     pineapple\n",
      "4    gala apple\n",
      "dtype: object\n"
     ]
    }
   ],
   "source": [
    "print(s1.head())"
   ]
  },
  {
   "cell_type": "code",
   "execution_count": 34,
   "id": "b8fd5104-56fd-49e0-ac19-22efaee770b7",
   "metadata": {},
   "outputs": [
    {
     "name": "stdout",
     "output_type": "stream",
     "text": [
      "14    blackberry\n",
      "15    gooseberry\n",
      "16        papaya\n",
      "dtype: object\n"
     ]
    }
   ],
   "source": [
    "print(s1.tail(3))"
   ]
  },
  {
   "cell_type": "code",
   "execution_count": 12,
   "id": "f921827c-f494-40bc-a72c-34fb459b42ca",
   "metadata": {},
   "outputs": [
    {
     "name": "stdout",
     "output_type": "stream",
     "text": [
      "1               mango\n",
      "5    honeycrisp apple\n",
      "6              tomato\n",
      "dtype: object\n"
     ]
    }
   ],
   "source": [
    "#provide 3 random samples\n",
    "print(s1.sample(3))"
   ]
  },
  {
   "cell_type": "markdown",
   "id": "ce358de8-17eb-469c-9f66-bda7b403ea39",
   "metadata": {},
   "source": [
    "### Six"
   ]
  },
  {
   "cell_type": "code",
   "execution_count": 40,
   "id": "c9758feb-ffe4-457c-afe4-9d61684f5450",
   "metadata": {},
   "outputs": [
    {
     "name": "stdout",
     "output_type": "stream",
     "text": [
      "count       17\n",
      "unique      13\n",
      "top       kiwi\n",
      "freq         4\n",
      "dtype: object\n"
     ]
    }
   ],
   "source": [
    "print(s1.describe())"
   ]
  },
  {
   "cell_type": "markdown",
   "id": "1ba54ba9-c8f6-4448-b6ba-cb319ee66fc3",
   "metadata": {},
   "source": [
    "### Seven"
   ]
  },
  {
   "cell_type": "code",
   "execution_count": 48,
   "id": "50bfdbe1-b748-4ce5-be29-2faac57a9181",
   "metadata": {},
   "outputs": [
    {
     "name": "stdout",
     "output_type": "stream",
     "text": [
      "['kiwi' 'mango' 'strawberry' 'pineapple' 'gala apple' 'honeycrisp apple'\n",
      " 'tomato' 'watermelon' 'honeydew' 'blueberry' 'blackberry' 'gooseberry'\n",
      " 'papaya']\n"
     ]
    }
   ],
   "source": [
    "print(s1.unique())"
   ]
  },
  {
   "cell_type": "markdown",
   "id": "3ceea97d-8ba8-4024-8e1e-19428a0be081",
   "metadata": {},
   "source": [
    "### Eight"
   ]
  },
  {
   "cell_type": "code",
   "execution_count": 46,
   "id": "227d1a30-09d6-4b50-b6af-537aca075bf5",
   "metadata": {},
   "outputs": [
    {
     "name": "stdout",
     "output_type": "stream",
     "text": [
      "kiwi                4\n",
      "mango               2\n",
      "strawberry          1\n",
      "pineapple           1\n",
      "gala apple          1\n",
      "honeycrisp apple    1\n",
      "tomato              1\n",
      "watermelon          1\n",
      "honeydew            1\n",
      "blueberry           1\n",
      "blackberry          1\n",
      "gooseberry          1\n",
      "papaya              1\n",
      "dtype: int64\n"
     ]
    }
   ],
   "source": [
    "# count it yourself\n",
    "print(s1.value_counts())"
   ]
  },
  {
   "cell_type": "code",
   "execution_count": 15,
   "id": "127589ad-343c-4154-b70e-f67a4977daa4",
   "metadata": {},
   "outputs": [
    {
     "data": {
      "text/plain": [
       "13"
      ]
     },
     "execution_count": 15,
     "metadata": {},
     "output_type": "execute_result"
    }
   ],
   "source": [
    "# the total count of unique elements\n",
    "s1.nunique()"
   ]
  },
  {
   "cell_type": "markdown",
   "id": "01039924-5a74-431a-a579-7bb3c0d20d72",
   "metadata": {},
   "source": [
    "### Nine"
   ]
  },
  {
   "cell_type": "code",
   "execution_count": 56,
   "id": "6b959178-8be9-4f6a-b49a-1fabb0f138ee",
   "metadata": {},
   "outputs": [
    {
     "name": "stdout",
     "output_type": "stream",
     "text": [
      "kiwi\n"
     ]
    }
   ],
   "source": [
    "print(s1.value_counts().index.tolist()[0])"
   ]
  },
  {
   "cell_type": "markdown",
   "id": "0c11ceea-0e6c-4df4-ad51-5c651a8c3f35",
   "metadata": {},
   "source": [
    "### Ten"
   ]
  },
  {
   "cell_type": "code",
   "execution_count": 16,
   "id": "dfb3247f-ad18-449c-a23c-d06ce997f8e5",
   "metadata": {},
   "outputs": [
    {
     "data": {
      "text/plain": [
       "strawberry          1\n",
       "pineapple           1\n",
       "gala apple          1\n",
       "honeycrisp apple    1\n",
       "tomato              1\n",
       "watermelon          1\n",
       "honeydew            1\n",
       "blueberry           1\n",
       "blackberry          1\n",
       "gooseberry          1\n",
       "papaya              1\n",
       "dtype: int64"
      ]
     },
     "execution_count": 16,
     "metadata": {},
     "output_type": "execute_result"
    }
   ],
   "source": [
    "# to save all the items which appeared the least amount of times use this\n",
    "s1.value_counts().nsmallest(n=1,keep='all')"
   ]
  },
  {
   "cell_type": "code",
   "execution_count": 62,
   "id": "2ef9ed48-2cbb-4bd0-ae69-eca1c65429f3",
   "metadata": {},
   "outputs": [
    {
     "name": "stdout",
     "output_type": "stream",
     "text": [
      "papaya\n"
     ]
    }
   ],
   "source": [
    "# to show the very last item of the items which appear in the sample the least amount of times:\n",
    "print(s1.value_counts().index.tolist()[-1])"
   ]
  },
  {
   "cell_type": "markdown",
   "id": "ea1d55a7-e5b7-46e9-954b-db45caeed68c",
   "metadata": {},
   "source": [
    "## Exercises Part II"
   ]
  },
  {
   "cell_type": "markdown",
   "id": "0e05c467-974e-4979-98a2-3015dde84537",
   "metadata": {},
   "source": [
    "### One"
   ]
  },
  {
   "cell_type": "code",
   "execution_count": 64,
   "id": "6ff08388-e819-494a-a727-a82212c738c2",
   "metadata": {},
   "outputs": [
    {
     "name": "stdout",
     "output_type": "stream",
     "text": [
      "0                 KIWI\n",
      "1                MANGO\n",
      "2           STRAWBERRY\n",
      "3            PINEAPPLE\n",
      "4           GALA APPLE\n",
      "5     HONEYCRISP APPLE\n",
      "6               TOMATO\n",
      "7           WATERMELON\n",
      "8             HONEYDEW\n",
      "9                 KIWI\n",
      "10                KIWI\n",
      "11                KIWI\n",
      "12               MANGO\n",
      "13           BLUEBERRY\n",
      "14          BLACKBERRY\n",
      "15          GOOSEBERRY\n",
      "16              PAPAYA\n",
      "dtype: object\n"
     ]
    }
   ],
   "source": [
    "print(s1.str.upper())"
   ]
  },
  {
   "cell_type": "markdown",
   "id": "fea43d62-3b9a-49fb-ac07-658719cad77e",
   "metadata": {},
   "source": [
    "### Two"
   ]
  },
  {
   "cell_type": "code",
   "execution_count": 19,
   "id": "f03c6ee3-7fdd-4d0f-80de-7a2d4be3b260",
   "metadata": {},
   "outputs": [
    {
     "name": "stdout",
     "output_type": "stream",
     "text": [
      "3\n"
     ]
    }
   ],
   "source": [
    "# count all the A's in 'bananas' inside the s1 array\n",
    "print('banana'.count('a'))"
   ]
  },
  {
   "cell_type": "code",
   "execution_count": 30,
   "id": "a1058c8a-df6f-4444-954a-bba7caca53cb",
   "metadata": {},
   "outputs": [
    {
     "name": "stdout",
     "output_type": "stream",
     "text": [
      "0     0\n",
      "1     1\n",
      "2     1\n",
      "3     1\n",
      "4     3\n",
      "5     1\n",
      "6     1\n",
      "7     1\n",
      "8     0\n",
      "9     0\n",
      "10    0\n",
      "11    0\n",
      "12    1\n",
      "13    0\n",
      "14    1\n",
      "15    0\n",
      "16    3\n",
      "dtype: int64\n"
     ]
    }
   ],
   "source": [
    "# count the number of A's in each item inside the s1 array\n",
    "print(s1.str.count('a'))"
   ]
  },
  {
   "cell_type": "markdown",
   "id": "6bd606ec-db36-4dd5-a76f-d348984b4301",
   "metadata": {},
   "source": [
    "### Three"
   ]
  },
  {
   "cell_type": "code",
   "execution_count": 35,
   "id": "8a5d4dae-7c1a-4297-9fff-ab046e57dfae",
   "metadata": {},
   "outputs": [],
   "source": [
    "# doing it the \"hard way\" \n",
    "#define vowels:\n",
    "vowels =  ['a','e','i','o','u']"
   ]
  },
  {
   "cell_type": "code",
   "execution_count": 36,
   "id": "1140ccd5-ae2f-4943-a5f1-551f2f76aa19",
   "metadata": {},
   "outputs": [],
   "source": [
    "fruit = 'persimmon'"
   ]
  },
  {
   "cell_type": "code",
   "execution_count": 37,
   "id": "8f062a24-8bca-4075-beb5-038ca395bb40",
   "metadata": {},
   "outputs": [
    {
     "name": "stdout",
     "output_type": "stream",
     "text": [
      "3\n"
     ]
    }
   ],
   "source": [
    "vowel_count = 0\n",
    "for i in fruit:\n",
    "    if i in vowels:\n",
    "        vowel_count+=1\n",
    "print(vowel_count)"
   ]
  },
  {
   "cell_type": "code",
   "execution_count": 41,
   "id": "08cde49e-4239-4158-9b3d-d567f44536fa",
   "metadata": {},
   "outputs": [
    {
     "data": {
      "text/plain": [
       "3"
      ]
     },
     "execution_count": 41,
     "metadata": {},
     "output_type": "execute_result"
    }
   ],
   "source": [
    "len([i for i in fruit.lower() if i in vowels])"
   ]
  },
  {
   "cell_type": "code",
   "execution_count": 45,
   "id": "c83c59f6-7996-45ba-8158-622c6670d421",
   "metadata": {},
   "outputs": [
    {
     "data": {
      "text/plain": [
       "3"
      ]
     },
     "execution_count": 45,
     "metadata": {},
     "output_type": "execute_result"
    }
   ],
   "source": [
    "len([i for i in fruit.lower() if i in ['a','e','i','o','u']])"
   ]
  },
  {
   "cell_type": "markdown",
   "id": "36984326-303a-4f0f-92b6-a8b0dd6d378c",
   "metadata": {},
   "source": [
    "### Four"
   ]
  },
  {
   "cell_type": "code",
   "execution_count": 48,
   "id": "81b47516-f788-47d8-b010-cc47d87dcbe1",
   "metadata": {},
   "outputs": [
    {
     "data": {
      "text/plain": [
       "0      4\n",
       "1      5\n",
       "2     10\n",
       "3      9\n",
       "4     10\n",
       "5     16\n",
       "6      6\n",
       "7     10\n",
       "8      8\n",
       "9      4\n",
       "10     4\n",
       "11     4\n",
       "12     5\n",
       "13     9\n",
       "14    10\n",
       "15    10\n",
       "16     6\n",
       "dtype: int64"
      ]
     },
     "execution_count": 48,
     "metadata": {},
     "output_type": "execute_result"
    }
   ],
   "source": [
    "# to get the string length for every item in the array: \n",
    "s1.str.len()"
   ]
  },
  {
   "cell_type": "code",
   "execution_count": 49,
   "id": "a7e3539d-9159-4ed6-94f5-c51abab89337",
   "metadata": {},
   "outputs": [
    {
     "data": {
      "text/plain": [
       "16"
      ]
     },
     "execution_count": 49,
     "metadata": {},
     "output_type": "execute_result"
    }
   ],
   "source": [
    "# the longest stringed item in the array:\n",
    "s1.str.len().max()"
   ]
  },
  {
   "cell_type": "markdown",
   "id": "3aa1ee27-4700-4227-9951-e927704ce8f8",
   "metadata": {},
   "source": [
    "### Five"
   ]
  },
  {
   "cell_type": "code",
   "execution_count": 52,
   "id": "8e6ffedf-b477-4185-9a00-13ade06df4f1",
   "metadata": {},
   "outputs": [
    {
     "data": {
      "text/plain": [
       "5    honeycrisp apple\n",
       "dtype: object"
      ]
     },
     "execution_count": 52,
     "metadata": {},
     "output_type": "execute_result"
    }
   ],
   "source": [
    "# setting a variable to be a boolean mask and comparing it to our array\n",
    "longest_string = s1.str.len() == s1.str.len().max()\n",
    "s1[longest_string]"
   ]
  },
  {
   "cell_type": "markdown",
   "id": "2397ddd8-320b-40c8-8b95-9de3eef4940f",
   "metadata": {},
   "source": [
    "### Six"
   ]
  },
  {
   "cell_type": "code",
   "execution_count": 54,
   "id": "a8e8b742-7f53-448c-8edf-d4834c72af26",
   "metadata": {},
   "outputs": [
    {
     "data": {
      "text/plain": [
       "6         tomato\n",
       "15    gooseberry\n",
       "dtype: object"
      ]
     },
     "execution_count": 54,
     "metadata": {},
     "output_type": "execute_result"
    }
   ],
   "source": [
    "s1[s1.str.lower().str.count('o') >=2]"
   ]
  },
  {
   "cell_type": "markdown",
   "id": "278e68d4-af5a-4aab-a794-97c28b6d596c",
   "metadata": {},
   "source": [
    "### Seven"
   ]
  },
  {
   "cell_type": "code",
   "execution_count": 55,
   "id": "261e24bc-5dac-4c05-95d8-94deb2783321",
   "metadata": {},
   "outputs": [
    {
     "data": {
      "text/plain": [
       "0     False\n",
       "1     False\n",
       "2      True\n",
       "3     False\n",
       "4     False\n",
       "5     False\n",
       "6     False\n",
       "7     False\n",
       "8     False\n",
       "9     False\n",
       "10    False\n",
       "11    False\n",
       "12    False\n",
       "13     True\n",
       "14     True\n",
       "15     True\n",
       "16    False\n",
       "dtype: bool"
      ]
     },
     "execution_count": 55,
     "metadata": {},
     "output_type": "execute_result"
    }
   ],
   "source": [
    "s1.apply(lambda i: 'berry' in i)"
   ]
  },
  {
   "cell_type": "markdown",
   "id": "bd1df7d0-77ea-460f-bc53-ade328db6876",
   "metadata": {},
   "source": [
    "### Nine"
   ]
  },
  {
   "cell_type": "markdown",
   "id": "e39c54ed-a660-4ca2-97bd-898db291f02e",
   "metadata": {},
   "source": [
    "## Exercises Part III"
   ]
  },
  {
   "cell_type": "code",
   "execution_count": 65,
   "id": "b2815bc9-7a09-4ebb-bf8d-a611f4012747",
   "metadata": {},
   "outputs": [],
   "source": [
    "s2= 'hnvidduckkqxwymbimkccexbkmqygkxoyndmcxnwqarhyffsjpsrabtjzsypmzadfavyrnndndvswreauxovncxtwzpwejilzjrmmbbgbyxvjtewqthafnbkqplarokkyydtubbmnexoypulzwfhqvckdpqtpoppzqrmcvhhpwgjwupgzhiofohawytlsiyecuproguy'\n",
    "letters = pd.Series(list(s2))"
   ]
  },
  {
   "cell_type": "markdown",
   "id": "766be0ad-7d70-49d5-87b0-a0055acc0710",
   "metadata": {},
   "source": [
    "### One"
   ]
  },
  {
   "cell_type": "markdown",
   "id": "5ebd1dc4-aa5c-4c62-976a-b3946b09ef24",
   "metadata": {},
   "source": [
    "### Three"
   ]
  },
  {
   "cell_type": "code",
   "execution_count": 56,
   "id": "2c6afd90-fcf8-48d8-86ab-d04ed275b468",
   "metadata": {},
   "outputs": [],
   "source": [
    "def is_vowel(some_word):\n",
    "    return some_word in ['a','e','i','o','u']"
   ]
  },
  {
   "cell_type": "code",
   "execution_count": 68,
   "id": "4b1384e5-283f-4536-b679-ac016d3c402e",
   "metadata": {},
   "outputs": [
    {
     "data": {
      "text/plain": [
       "34"
      ]
     },
     "execution_count": 68,
     "metadata": {},
     "output_type": "execute_result"
    }
   ],
   "source": [
    "# count of vowels\n",
    "(letters.str.lower().apply(is_vowel)).sum()"
   ]
  },
  {
   "cell_type": "markdown",
   "id": "7d02f380-9e6c-44bf-9711-ac810301cc57",
   "metadata": {},
   "source": [
    "### Four"
   ]
  },
  {
   "cell_type": "code",
   "execution_count": 69,
   "id": "12097290-8154-43be-9081-9ea66e8e5411",
   "metadata": {},
   "outputs": [
    {
     "data": {
      "text/plain": [
       "166"
      ]
     },
     "execution_count": 69,
     "metadata": {},
     "output_type": "execute_result"
    }
   ],
   "source": [
    "# using the tilda to produce 'not' vowel output\n",
    "(~letters.str.lower().apply(is_vowel)).sum()"
   ]
  },
  {
   "cell_type": "markdown",
   "id": "8b8abebd-92b2-46d1-ac10-5bfbb1802c5d",
   "metadata": {},
   "source": [
    "### Six"
   ]
  },
  {
   "cell_type": "code",
   "execution_count": 67,
   "id": "43423e0b-ee7b-431e-a2aa-3b292c9c0d2f",
   "metadata": {},
   "outputs": [
    {
     "data": {
      "text/plain": [
       "y    13\n",
       "p    12\n",
       "w    10\n",
       "b     9\n",
       "n     9\n",
       "k     9\n",
       "m     9\n",
       "r     8\n",
       "a     8\n",
       "o     8\n",
       "h     8\n",
       "x     8\n",
       "q     8\n",
       "c     8\n",
       "d     8\n",
       "u     7\n",
       "v     7\n",
       "t     7\n",
       "z     7\n",
       "e     6\n",
       "f     6\n",
       "j     6\n",
       "g     5\n",
       "i     5\n",
       "s     5\n",
       "l     4\n",
       "dtype: int64"
      ]
     },
     "execution_count": 67,
     "metadata": {},
     "output_type": "execute_result"
    }
   ],
   "source": [
    "letters.value_counts()"
   ]
  },
  {
   "cell_type": "markdown",
   "id": "43d99596-19ec-4436-8162-cf96f5295045",
   "metadata": {},
   "source": [
    "## Not sure what to call this section"
   ]
  },
  {
   "cell_type": "code",
   "execution_count": 73,
   "id": "a4080065-b5cc-4007-8005-e3bbc14899b2",
   "metadata": {},
   "outputs": [],
   "source": [
    "s3= ['$796,459.41', '$278.60', '$482,571.67', '$4,503,915.98', '$2,121,418.3', '$1,260,813.3', '$87,231.01', '$1,509,175.45', '$4,138,548.00', '$2,848,913.80', '$594,715.39', '$4,789,988.17', '$4,513,644.5', '$3,191,059.97', '$1,758,712.24', '$4,338,283.54', '$4,738,303.38', '$2,791,759.67', '$769,681.94', '$452,650.23']\n",
    "\n",
    "numbers = pd.Series(s3)"
   ]
  },
  {
   "cell_type": "markdown",
   "id": "a8925b70-017c-49df-ab82-64664d754f10",
   "metadata": {},
   "source": [
    "### One"
   ]
  },
  {
   "cell_type": "code",
   "execution_count": 74,
   "id": "7986549e-bf54-4a4e-a7fd-deb11cd49d38",
   "metadata": {},
   "outputs": [
    {
     "data": {
      "text/plain": [
       "pandas.core.series.Series"
      ]
     },
     "execution_count": 74,
     "metadata": {},
     "output_type": "execute_result"
    }
   ],
   "source": [
    "type(numbers)"
   ]
  },
  {
   "cell_type": "markdown",
   "id": "b10a469f-252b-442d-8034-8cffe4750a15",
   "metadata": {},
   "source": [
    "### Two"
   ]
  },
  {
   "cell_type": "code",
   "execution_count": 75,
   "id": "28399315-0802-4b02-8a15-7922a3a9b091",
   "metadata": {},
   "outputs": [
    {
     "data": {
      "text/plain": [
       "20"
      ]
     },
     "execution_count": 75,
     "metadata": {},
     "output_type": "execute_result"
    }
   ],
   "source": [
    "numbers.size"
   ]
  },
  {
   "cell_type": "markdown",
   "id": "cc9a75f3-a70b-4a10-ba53-50f95d7ceaa7",
   "metadata": {},
   "source": [
    "### Three"
   ]
  },
  {
   "cell_type": "code",
   "execution_count": 81,
   "id": "ad2e2a83-bb47-4d51-8dd7-711a7804808a",
   "metadata": {},
   "outputs": [],
   "source": [
    "dfnumbers = pd.DataFrame(s3)"
   ]
  },
  {
   "cell_type": "code",
   "execution_count": 86,
   "id": "54e3e6a5-20c0-499a-a118-33bc4ca0a773",
   "metadata": {},
   "outputs": [],
   "source": [
    "dfnumbers[0] = pd.to_numeric(dfnumbers[0],errors='coerce')"
   ]
  },
  {
   "cell_type": "markdown",
   "id": "1060193d-bff4-4bc0-8ce0-47909cebe393",
   "metadata": {},
   "source": [
    "### Four"
   ]
  },
  {
   "cell_type": "code",
   "execution_count": 90,
   "id": "d2ace9e7-89a6-493b-8f95-4ffd30f5b489",
   "metadata": {},
   "outputs": [
    {
     "data": {
      "text/html": [
       "<div>\n",
       "<style scoped>\n",
       "    .dataframe tbody tr th:only-of-type {\n",
       "        vertical-align: middle;\n",
       "    }\n",
       "\n",
       "    .dataframe tbody tr th {\n",
       "        vertical-align: top;\n",
       "    }\n",
       "\n",
       "    .dataframe thead th {\n",
       "        text-align: right;\n",
       "    }\n",
       "</style>\n",
       "<table border=\"1\" class=\"dataframe\">\n",
       "  <thead>\n",
       "    <tr style=\"text-align: right;\">\n",
       "      <th></th>\n",
       "      <th>0</th>\n",
       "    </tr>\n",
       "  </thead>\n",
       "  <tbody>\n",
       "    <tr>\n",
       "      <th>count</th>\n",
       "      <td>0.0</td>\n",
       "    </tr>\n",
       "    <tr>\n",
       "      <th>mean</th>\n",
       "      <td>NaN</td>\n",
       "    </tr>\n",
       "    <tr>\n",
       "      <th>std</th>\n",
       "      <td>NaN</td>\n",
       "    </tr>\n",
       "    <tr>\n",
       "      <th>min</th>\n",
       "      <td>NaN</td>\n",
       "    </tr>\n",
       "    <tr>\n",
       "      <th>25%</th>\n",
       "      <td>NaN</td>\n",
       "    </tr>\n",
       "    <tr>\n",
       "      <th>50%</th>\n",
       "      <td>NaN</td>\n",
       "    </tr>\n",
       "    <tr>\n",
       "      <th>75%</th>\n",
       "      <td>NaN</td>\n",
       "    </tr>\n",
       "    <tr>\n",
       "      <th>max</th>\n",
       "      <td>NaN</td>\n",
       "    </tr>\n",
       "  </tbody>\n",
       "</table>\n",
       "</div>"
      ],
      "text/plain": [
       "         0\n",
       "count  0.0\n",
       "mean   NaN\n",
       "std    NaN\n",
       "min    NaN\n",
       "25%    NaN\n",
       "50%    NaN\n",
       "75%    NaN\n",
       "max    NaN"
      ]
     },
     "execution_count": 90,
     "metadata": {},
     "output_type": "execute_result"
    }
   ],
   "source": [
    "dfnumbers.describe()"
   ]
  },
  {
   "cell_type": "code",
   "execution_count": 88,
   "id": "f9b5046c-9f99-4c0c-aec6-0566bb8b8469",
   "metadata": {},
   "outputs": [
    {
     "data": {
      "text/plain": [
       "(<bound method NDFrame._add_numeric_operations.<locals>.max of 0       $796,459.41\n",
       " 1           $278.60\n",
       " 2       $482,571.67\n",
       " 3     $4,503,915.98\n",
       " 4      $2,121,418.3\n",
       " 5      $1,260,813.3\n",
       " 6        $87,231.01\n",
       " 7     $1,509,175.45\n",
       " 8     $4,138,548.00\n",
       " 9     $2,848,913.80\n",
       " 10      $594,715.39\n",
       " 11    $4,789,988.17\n",
       " 12     $4,513,644.5\n",
       " 13    $3,191,059.97\n",
       " 14    $1,758,712.24\n",
       " 15    $4,338,283.54\n",
       " 16    $4,738,303.38\n",
       " 17    $2,791,759.67\n",
       " 18      $769,681.94\n",
       " 19      $452,650.23\n",
       " dtype: object>,\n",
       " '$1,260,813.3')"
      ]
     },
     "execution_count": 88,
     "metadata": {},
     "output_type": "execute_result"
    }
   ],
   "source": [
    "(numbers.max, numbers.min())"
   ]
  },
  {
   "cell_type": "code",
   "execution_count": 89,
   "id": "8fe79df3-db47-4207-bbe4-4df6d9f8ccf5",
   "metadata": {},
   "outputs": [
    {
     "ename": "TypeError",
     "evalue": "can only concatenate str (not \"float\") to str",
     "output_type": "error",
     "traceback": [
      "\u001b[0;31m---------------------------------------------------------------------------\u001b[0m",
      "\u001b[0;31mTypeError\u001b[0m                                 Traceback (most recent call last)",
      "Input \u001b[0;32mIn [89]\u001b[0m, in \u001b[0;36m<cell line: 1>\u001b[0;34m()\u001b[0m\n\u001b[0;32m----> 1\u001b[0m \u001b[43mpd\u001b[49m\u001b[38;5;241;43m.\u001b[39;49m\u001b[43mcut\u001b[49m\u001b[43m(\u001b[49m\u001b[43mnumbers\u001b[49m\u001b[43m,\u001b[49m\u001b[43m \u001b[49m\u001b[38;5;241;43m4\u001b[39;49m\u001b[43m)\u001b[49m\n",
      "File \u001b[0;32m/usr/local/lib/python3.10/site-packages/pandas/core/reshape/tile.py:258\u001b[0m, in \u001b[0;36mcut\u001b[0;34m(x, bins, right, labels, retbins, precision, include_lowest, duplicates, ordered)\u001b[0m\n\u001b[1;32m    255\u001b[0m     \u001b[38;5;28;01mraise\u001b[39;00m \u001b[38;5;167;01mValueError\u001b[39;00m(\u001b[38;5;124m\"\u001b[39m\u001b[38;5;124mCannot cut empty array\u001b[39m\u001b[38;5;124m\"\u001b[39m)\n\u001b[1;32m    257\u001b[0m rng \u001b[38;5;241m=\u001b[39m (nanops\u001b[38;5;241m.\u001b[39mnanmin(x), nanops\u001b[38;5;241m.\u001b[39mnanmax(x))\n\u001b[0;32m--> 258\u001b[0m mn, mx \u001b[38;5;241m=\u001b[39m (mi \u001b[38;5;241m+\u001b[39m \u001b[38;5;241m0.0\u001b[39m \u001b[38;5;28;01mfor\u001b[39;00m mi \u001b[38;5;129;01min\u001b[39;00m rng)\n\u001b[1;32m    260\u001b[0m \u001b[38;5;28;01mif\u001b[39;00m np\u001b[38;5;241m.\u001b[39misinf(mn) \u001b[38;5;129;01mor\u001b[39;00m np\u001b[38;5;241m.\u001b[39misinf(mx):\n\u001b[1;32m    261\u001b[0m     \u001b[38;5;66;03m# GH 24314\u001b[39;00m\n\u001b[1;32m    262\u001b[0m     \u001b[38;5;28;01mraise\u001b[39;00m \u001b[38;5;167;01mValueError\u001b[39;00m(\n\u001b[1;32m    263\u001b[0m         \u001b[38;5;124m\"\u001b[39m\u001b[38;5;124mcannot specify integer `bins` when input data contains infinity\u001b[39m\u001b[38;5;124m\"\u001b[39m\n\u001b[1;32m    264\u001b[0m     )\n",
      "File \u001b[0;32m/usr/local/lib/python3.10/site-packages/pandas/core/reshape/tile.py:258\u001b[0m, in \u001b[0;36m<genexpr>\u001b[0;34m(.0)\u001b[0m\n\u001b[1;32m    255\u001b[0m     \u001b[38;5;28;01mraise\u001b[39;00m \u001b[38;5;167;01mValueError\u001b[39;00m(\u001b[38;5;124m\"\u001b[39m\u001b[38;5;124mCannot cut empty array\u001b[39m\u001b[38;5;124m\"\u001b[39m)\n\u001b[1;32m    257\u001b[0m rng \u001b[38;5;241m=\u001b[39m (nanops\u001b[38;5;241m.\u001b[39mnanmin(x), nanops\u001b[38;5;241m.\u001b[39mnanmax(x))\n\u001b[0;32m--> 258\u001b[0m mn, mx \u001b[38;5;241m=\u001b[39m (\u001b[43mmi\u001b[49m\u001b[43m \u001b[49m\u001b[38;5;241;43m+\u001b[39;49m\u001b[43m \u001b[49m\u001b[38;5;241;43m0.0\u001b[39;49m \u001b[38;5;28;01mfor\u001b[39;00m mi \u001b[38;5;129;01min\u001b[39;00m rng)\n\u001b[1;32m    260\u001b[0m \u001b[38;5;28;01mif\u001b[39;00m np\u001b[38;5;241m.\u001b[39misinf(mn) \u001b[38;5;129;01mor\u001b[39;00m np\u001b[38;5;241m.\u001b[39misinf(mx):\n\u001b[1;32m    261\u001b[0m     \u001b[38;5;66;03m# GH 24314\u001b[39;00m\n\u001b[1;32m    262\u001b[0m     \u001b[38;5;28;01mraise\u001b[39;00m \u001b[38;5;167;01mValueError\u001b[39;00m(\n\u001b[1;32m    263\u001b[0m         \u001b[38;5;124m\"\u001b[39m\u001b[38;5;124mcannot specify integer `bins` when input data contains infinity\u001b[39m\u001b[38;5;124m\"\u001b[39m\n\u001b[1;32m    264\u001b[0m     )\n",
      "\u001b[0;31mTypeError\u001b[0m: can only concatenate str (not \"float\") to str"
     ]
    }
   ],
   "source": [
    "pd.cut(numbers, 4)"
   ]
  },
  {
   "cell_type": "code",
   "execution_count": 91,
   "id": "39d2e376-d14a-43c8-ae07-5c2a70fb25d6",
   "metadata": {},
   "outputs": [],
   "source": [
    "s4 =     [60, 86, 75, 62, 93, 71, 60, 83, 95, 78, 65, 72, 69, 81, 96, 80, 85, 92, 82, 78]\n",
    "exam_scores = pd.Series(s4)"
   ]
  },
  {
   "cell_type": "code",
   "execution_count": 93,
   "id": "e512ef45-85d0-4eb0-9df0-ce0cdf3360ee",
   "metadata": {},
   "outputs": [
    {
     "data": {
      "text/plain": [
       "20"
      ]
     },
     "execution_count": 93,
     "metadata": {},
     "output_type": "execute_result"
    }
   ],
   "source": [
    "exam_scores.size"
   ]
  },
  {
   "cell_type": "code",
   "execution_count": 95,
   "id": "79501ab6-e0bc-4fc3-aaf7-46542d4512a2",
   "metadata": {},
   "outputs": [
    {
     "data": {
      "text/plain": [
       "count    20.000000\n",
       "mean     78.150000\n",
       "std      11.352139\n",
       "min      60.000000\n",
       "25%      70.500000\n",
       "50%      79.000000\n",
       "75%      85.250000\n",
       "max      96.000000\n",
       "dtype: float64"
      ]
     },
     "execution_count": 95,
     "metadata": {},
     "output_type": "execute_result"
    }
   ],
   "source": [
    "exam_scores.describe()"
   ]
  },
  {
   "cell_type": "code",
   "execution_count": null,
   "id": "1db09728-ecdd-4a14-b457-a96677d22e2b",
   "metadata": {},
   "outputs": [],
   "source": []
  }
 ],
 "metadata": {
  "kernelspec": {
   "display_name": "Python 3 (ipykernel)",
   "language": "python",
   "name": "python3"
  },
  "language_info": {
   "codemirror_mode": {
    "name": "ipython",
    "version": 3
   },
   "file_extension": ".py",
   "mimetype": "text/x-python",
   "name": "python",
   "nbconvert_exporter": "python",
   "pygments_lexer": "ipython3",
   "version": "3.10.6"
  }
 },
 "nbformat": 4,
 "nbformat_minor": 5
}
