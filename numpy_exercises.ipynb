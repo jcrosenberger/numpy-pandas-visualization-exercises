{
 "cells": [
  {
   "cell_type": "code",
   "execution_count": 52,
   "id": "1f7e41b6-0930-43fa-b1d5-1ae8d930a505",
   "metadata": {},
   "outputs": [],
   "source": [
    "import numpy as np"
   ]
  },
  {
   "cell_type": "code",
   "execution_count": 53,
   "id": "2ca4f837-6139-42d6-8e25-32d0fd86cb35",
   "metadata": {},
   "outputs": [],
   "source": [
    "a1 = np.array([4, 10, 12, 23, -2, -1, 0, 0, 0, -6, 3, -7])"
   ]
  },
  {
   "cell_type": "markdown",
   "id": "9bba0925-a6e5-423e-9b32-dce0005262e2",
   "metadata": {},
   "source": [
    "### One"
   ]
  },
  {
   "cell_type": "code",
   "execution_count": 54,
   "id": "00c1a8db-22fa-497c-9f3b-3cef8b89856c",
   "metadata": {},
   "outputs": [
    {
     "data": {
      "text/plain": [
       "array([False, False, False, False,  True,  True, False, False, False,\n",
       "        True, False,  True])"
      ]
     },
     "execution_count": 54,
     "metadata": {},
     "output_type": "execute_result"
    }
   ],
   "source": [
    "a1 < 0"
   ]
  },
  {
   "cell_type": "code",
   "execution_count": 55,
   "id": "34fe7d2c-8521-435a-a36e-2eaeb39f42ba",
   "metadata": {},
   "outputs": [
    {
     "data": {
      "text/plain": [
       "array([-2, -1, -6, -7])"
      ]
     },
     "execution_count": 55,
     "metadata": {},
     "output_type": "execute_result"
    }
   ],
   "source": [
    "a1[a1 < 0]"
   ]
  },
  {
   "cell_type": "code",
   "execution_count": 56,
   "id": "ef076b2c-fe09-482a-a859-fe101ba97b3a",
   "metadata": {},
   "outputs": [
    {
     "name": "stdout",
     "output_type": "stream",
     "text": [
      "There are 4 negative numbers in the array\n"
     ]
    }
   ],
   "source": [
    "print(\"There are\",np.sum(a1<0),\"negative numbers in the array\")"
   ]
  },
  {
   "cell_type": "markdown",
   "id": "d8395796-8134-4b9d-ad84-96041b1debb3",
   "metadata": {},
   "source": [
    "### Two"
   ]
  },
  {
   "cell_type": "code",
   "execution_count": 57,
   "id": "d40cea02-073a-4c57-a880-de8a095eb522",
   "metadata": {},
   "outputs": [
    {
     "name": "stdout",
     "output_type": "stream",
     "text": [
      "There are 5 positive numbers in the array\n"
     ]
    }
   ],
   "source": [
    "print(\"There are\",np.sum(a1>0),\"positive numbers in the array\")"
   ]
  },
  {
   "cell_type": "markdown",
   "id": "e2340d67-5221-4df8-8e69-87206cd3c62d",
   "metadata": {},
   "source": [
    "### Three"
   ]
  },
  {
   "cell_type": "code",
   "execution_count": 58,
   "id": "94ad77eb-3d7c-4e3f-bc49-fb5975641023",
   "metadata": {},
   "outputs": [
    {
     "data": {
      "text/plain": [
       "array([ True,  True,  True, False,  True, False,  True,  True,  True,\n",
       "        True, False, False])"
      ]
     },
     "execution_count": 58,
     "metadata": {},
     "output_type": "execute_result"
    }
   ],
   "source": [
    "a1 % 2 == 0"
   ]
  },
  {
   "cell_type": "code",
   "execution_count": 59,
   "id": "55ee17fa-9393-4bd7-a813-63513bba3108",
   "metadata": {},
   "outputs": [],
   "source": [
    "c = a1%2==0"
   ]
  },
  {
   "cell_type": "code",
   "execution_count": 60,
   "id": "b75887a4-0f70-44f9-8667-8679aa4def0f",
   "metadata": {},
   "outputs": [
    {
     "name": "stdout",
     "output_type": "stream",
     "text": [
      "There are 8 positive, even numbers in the array\n"
     ]
    }
   ],
   "source": [
    "print(\"There are\",np.sum(c>0),\"positive, even numbers in the array\")"
   ]
  },
  {
   "cell_type": "markdown",
   "id": "73735266-2736-4459-a6e6-43d2f0c2ef77",
   "metadata": {},
   "source": [
    "### Four"
   ]
  },
  {
   "cell_type": "code",
   "execution_count": 61,
   "id": "979227c7-4c1d-441c-ada3-4b9981a13dd4",
   "metadata": {},
   "outputs": [],
   "source": [
    "d = a1 + 3"
   ]
  },
  {
   "cell_type": "code",
   "execution_count": 62,
   "id": "ab465821-e8be-4697-8849-3fa19f8782e3",
   "metadata": {},
   "outputs": [
    {
     "name": "stdout",
     "output_type": "stream",
     "text": [
      "There are 10 positive numbers in the array if 3 is added to each\n"
     ]
    }
   ],
   "source": [
    "print(\"There are\",np.sum(d>0),\"positive numbers in the array if 3 is added to each\")"
   ]
  },
  {
   "cell_type": "markdown",
   "id": "4b3156f1-c213-47ef-85e2-a76f51191790",
   "metadata": {},
   "source": [
    "## Five"
   ]
  },
  {
   "cell_type": "code",
   "execution_count": 63,
   "id": "e2f8acd7-c01d-4d7c-a02c-34556dad8b00",
   "metadata": {},
   "outputs": [
    {
     "data": {
      "text/plain": [
       "array([ 16, 100, 144, 529,   4,   1,   0,   0,   0,  36,   9,  49])"
      ]
     },
     "execution_count": 63,
     "metadata": {},
     "output_type": "execute_result"
    }
   ],
   "source": [
    "a1 ** 2\n"
   ]
  },
  {
   "cell_type": "code",
   "execution_count": 64,
   "id": "ec76fcaf-7f78-4070-8261-7095a0c66c76",
   "metadata": {},
   "outputs": [
    {
     "name": "stdout",
     "output_type": "stream",
     "text": [
      "74.0\n",
      "144.0243035046516\n"
     ]
    }
   ],
   "source": [
    "e = a1 ** 2\n",
    "print(np.mean(e))\n",
    "print(np.std(e))"
   ]
  },
  {
   "cell_type": "code",
   "execution_count": 65,
   "id": "2f8784b6-a5f1-4149-9df9-81ac09620ec9",
   "metadata": {},
   "outputs": [
    {
     "name": "stdout",
     "output_type": "stream",
     "text": [
      "The new mean and standard deviation for our array are 74.0 & 144.02\n"
     ]
    }
   ],
   "source": [
    "print('The new mean and standard deviation for our array are', np.mean(e),'&',round(np.std(e),2))"
   ]
  },
  {
   "cell_type": "markdown",
   "id": "9be1ec3a-f110-4bb5-a756-ee08d1e8eaf7",
   "metadata": {},
   "source": [
    "## Six"
   ]
  },
  {
   "cell_type": "code",
   "execution_count": 66,
   "id": "19324845-1865-46ba-8c4e-d85c3eb01a5d",
   "metadata": {},
   "outputs": [],
   "source": [
    "centering = lambda x: x - x.mean()\n",
    "f = centering(a1)"
   ]
  },
  {
   "cell_type": "code",
   "execution_count": 67,
   "id": "d24a09b2-bdc9-4c78-a2bf-748a7d4e828e",
   "metadata": {},
   "outputs": [
    {
     "name": "stdout",
     "output_type": "stream",
     "text": [
      "The centered array is as below\n",
      " [  1.   7.   9.  20.  -5.  -4.  -3.  -3.  -3.  -9.   0. -10.]\n"
     ]
    }
   ],
   "source": [
    "print('The centered array is as below\\n',f)"
   ]
  },
  {
   "cell_type": "markdown",
   "id": "b81b0b3c-e29f-4539-b2b8-d8f816b481d3",
   "metadata": {},
   "source": [
    "## Seven"
   ]
  },
  {
   "cell_type": "code",
   "execution_count": 68,
   "id": "7029ca2f-e95d-4ad9-b313-7a1d2890d946",
   "metadata": {},
   "outputs": [],
   "source": [
    "# z-score is a means of standardizing standard deviations between any and all \n",
    "# samples for scientiffic analysis to determine significance of findings\n",
    "z = np.mean(a1)/np.std(a1)"
   ]
  },
  {
   "cell_type": "code",
   "execution_count": 69,
   "id": "cb5ad41c-37d1-4883-bef3-04675c457bc7",
   "metadata": {},
   "outputs": [
    {
     "name": "stdout",
     "output_type": "stream",
     "text": [
      "The z score for the array is 0.372\n"
     ]
    }
   ],
   "source": [
    "print('The z score for the array is',round(z,3))"
   ]
  },
  {
   "cell_type": "markdown",
   "id": "b0b5d10c-e985-4eef-9bbb-f5ee023c7c87",
   "metadata": {},
   "source": [
    "## Eight"
   ]
  },
  {
   "cell_type": "markdown",
   "id": "c4a4faec-0d7f-4ccb-a0ce-ca7305b8215a",
   "metadata": {},
   "source": [
    "### Setup 1"
   ]
  },
  {
   "cell_type": "code",
   "execution_count": 70,
   "id": "55176fa2-543a-4e84-9712-c51ae9e7ca03",
   "metadata": {},
   "outputs": [],
   "source": [
    "a2 = [1, 2, 3, 4, 5, 6, 7, 8, 9, 10]"
   ]
  },
  {
   "cell_type": "code",
   "execution_count": 97,
   "id": "e466e689-b260-40b6-b79a-cf0ee5a44105",
   "metadata": {},
   "outputs": [
    {
     "name": "stdout",
     "output_type": "stream",
     "text": [
      "Setup 1 number 1 55\n"
     ]
    }
   ],
   "source": [
    "sum_of_a2 = np.sum(a2)\n",
    "print('Setup 1 number 1',sum_of_a2)"
   ]
  },
  {
   "cell_type": "code",
   "execution_count": 98,
   "id": "07b60b8a-020e-49af-a448-d36c985108f6",
   "metadata": {},
   "outputs": [
    {
     "name": "stdout",
     "output_type": "stream",
     "text": [
      "Setup 1 number 2 1\n"
     ]
    }
   ],
   "source": [
    "min_of_a2 = np.min(a2)\n",
    "print('Setup 1 number 2',min_of_a2)"
   ]
  },
  {
   "cell_type": "code",
   "execution_count": 99,
   "id": "496f63ba-6c39-4179-83a7-d1d9e055b938",
   "metadata": {},
   "outputs": [
    {
     "name": "stdout",
     "output_type": "stream",
     "text": [
      "Setup 1 number 3 10\n"
     ]
    }
   ],
   "source": [
    "max_of_a2 = np.max(a2)\n",
    "print('Setup 1 number 3',max_of_a2)"
   ]
  },
  {
   "cell_type": "code",
   "execution_count": 100,
   "id": "1d830254-b3ea-4183-8abf-40798d24ca5c",
   "metadata": {},
   "outputs": [
    {
     "name": "stdout",
     "output_type": "stream",
     "text": [
      "Setup 1 number 4 5.5\n"
     ]
    }
   ],
   "source": [
    "mean_of_a2 = np.mean(a2)\n",
    "print('Setup 1 number 4',mean_of_a2)"
   ]
  },
  {
   "cell_type": "code",
   "execution_count": 101,
   "id": "274ef38c-b2b2-47dc-8e80-ee88ff54357d",
   "metadata": {},
   "outputs": [
    {
     "name": "stdout",
     "output_type": "stream",
     "text": [
      "Setup 1 number 5 3628800\n"
     ]
    }
   ],
   "source": [
    "product_of_a2 = np.product(a2)\n",
    "print('Setup 1 number 5',product_of_a2)"
   ]
  },
  {
   "cell_type": "code",
   "execution_count": 102,
   "id": "f3ce8d45-e99d-4495-89b6-bf1ea2c4483d",
   "metadata": {},
   "outputs": [
    {
     "name": "stdout",
     "output_type": "stream",
     "text": [
      "Setup 1 number 6 [  1   4   9  16  25  36  49  64  81 100]\n"
     ]
    }
   ],
   "source": [
    "squares_of_a2 = np.square(a2)\n",
    "print('Setup 1 number 6',squares_of_a2)"
   ]
  },
  {
   "cell_type": "code",
   "execution_count": 105,
   "id": "5b023244-2662-4fde-ad03-107b40dc47e1",
   "metadata": {},
   "outputs": [
    {
     "name": "stdout",
     "output_type": "stream",
     "text": [
      "Setup 1 number 7 [1 3 5 7 9]\n"
     ]
    }
   ],
   "source": [
    "odds_in_a2 = np.mod(a2,2)!=0\n",
    "print('Setup 1 number 7',np.array(a2)[odds_in_a2])"
   ]
  },
  {
   "cell_type": "code",
   "execution_count": 104,
   "id": "655e1c22-8f91-4b1f-b15d-d7a9b270b03c",
   "metadata": {},
   "outputs": [
    {
     "name": "stdout",
     "output_type": "stream",
     "text": [
      "Setup 1 number 8 [ 2  4  6  8 10]\n"
     ]
    }
   ],
   "source": [
    "evens_in_a2 = np.mod(a2,2)==0\n",
    "print('Setup 1 number 8',np.array(a2)[evens_in_a2])"
   ]
  },
  {
   "cell_type": "markdown",
   "id": "6963d5fa-248b-415a-bf30-b119cf8e6d32",
   "metadata": {},
   "source": [
    "### Setup 2"
   ]
  },
  {
   "cell_type": "code",
   "execution_count": 106,
   "id": "58c54371-051c-4cdf-8637-2fb828e2b9ae",
   "metadata": {},
   "outputs": [],
   "source": [
    "b1 = [\n",
    "    [3,4,5],\n",
    "    [6,7,8]\n",
    "]"
   ]
  },
  {
   "cell_type": "code",
   "execution_count": 107,
   "id": "5e05b373-f4ef-480a-a1c2-300ccbbcac10",
   "metadata": {},
   "outputs": [],
   "source": [
    "sum_of_b = 0"
   ]
  },
  {
   "cell_type": "code",
   "execution_count": null,
   "id": "1c4f618f-a1f7-407e-baa0-56de0a3a86b5",
   "metadata": {},
   "outputs": [],
   "source": []
  }
 ],
 "metadata": {
  "kernelspec": {
   "display_name": "Python 3 (ipykernel)",
   "language": "python",
   "name": "python3"
  },
  "language_info": {
   "codemirror_mode": {
    "name": "ipython",
    "version": 3
   },
   "file_extension": ".py",
   "mimetype": "text/x-python",
   "name": "python",
   "nbconvert_exporter": "python",
   "pygments_lexer": "ipython3",
   "version": "3.10.6"
  }
 },
 "nbformat": 4,
 "nbformat_minor": 5
}
