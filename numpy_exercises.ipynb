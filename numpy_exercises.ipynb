{
 "cells": [
  {
   "cell_type": "code",
   "execution_count": 162,
   "id": "1f7e41b6-0930-43fa-b1d5-1ae8d930a505",
   "metadata": {},
   "outputs": [],
   "source": [
    "import numpy as np"
   ]
  },
  {
   "cell_type": "code",
   "execution_count": 53,
   "id": "2ca4f837-6139-42d6-8e25-32d0fd86cb35",
   "metadata": {},
   "outputs": [],
   "source": [
    "a1 = np.array([4, 10, 12, 23, -2, -1, 0, 0, 0, -6, 3, -7])"
   ]
  },
  {
   "cell_type": "markdown",
   "id": "9bba0925-a6e5-423e-9b32-dce0005262e2",
   "metadata": {},
   "source": [
    "### One"
   ]
  },
  {
   "cell_type": "code",
   "execution_count": 54,
   "id": "00c1a8db-22fa-497c-9f3b-3cef8b89856c",
   "metadata": {},
   "outputs": [
    {
     "data": {
      "text/plain": [
       "array([False, False, False, False,  True,  True, False, False, False,\n",
       "        True, False,  True])"
      ]
     },
     "execution_count": 54,
     "metadata": {},
     "output_type": "execute_result"
    }
   ],
   "source": [
    "a1 < 0"
   ]
  },
  {
   "cell_type": "code",
   "execution_count": 112,
   "id": "34fe7d2c-8521-435a-a36e-2eaeb39f42ba",
   "metadata": {},
   "outputs": [
    {
     "data": {
      "text/plain": [
       "array([-2, -1, -6, -7])"
      ]
     },
     "execution_count": 112,
     "metadata": {},
     "output_type": "execute_result"
    }
   ],
   "source": [
    "a1[a1 < 0]"
   ]
  },
  {
   "cell_type": "code",
   "execution_count": 56,
   "id": "ef076b2c-fe09-482a-a859-fe101ba97b3a",
   "metadata": {},
   "outputs": [
    {
     "name": "stdout",
     "output_type": "stream",
     "text": [
      "There are 4 negative numbers in the array\n"
     ]
    }
   ],
   "source": [
    "print(\"There are\",np.sum(a1<0),\"negative numbers in the array\")"
   ]
  },
  {
   "cell_type": "markdown",
   "id": "d8395796-8134-4b9d-ad84-96041b1debb3",
   "metadata": {},
   "source": [
    "### Two"
   ]
  },
  {
   "cell_type": "code",
   "execution_count": 57,
   "id": "d40cea02-073a-4c57-a880-de8a095eb522",
   "metadata": {},
   "outputs": [
    {
     "name": "stdout",
     "output_type": "stream",
     "text": [
      "There are 5 positive numbers in the array\n"
     ]
    }
   ],
   "source": [
    "print(\"There are\",np.sum(a1>0),\"positive numbers in the array\")"
   ]
  },
  {
   "cell_type": "markdown",
   "id": "e2340d67-5221-4df8-8e69-87206cd3c62d",
   "metadata": {},
   "source": [
    "### Three"
   ]
  },
  {
   "cell_type": "code",
   "execution_count": 58,
   "id": "94ad77eb-3d7c-4e3f-bc49-fb5975641023",
   "metadata": {},
   "outputs": [
    {
     "data": {
      "text/plain": [
       "array([ True,  True,  True, False,  True, False,  True,  True,  True,\n",
       "        True, False, False])"
      ]
     },
     "execution_count": 58,
     "metadata": {},
     "output_type": "execute_result"
    }
   ],
   "source": [
    "a1 % 2 == 0"
   ]
  },
  {
   "cell_type": "code",
   "execution_count": 59,
   "id": "55ee17fa-9393-4bd7-a813-63513bba3108",
   "metadata": {},
   "outputs": [],
   "source": [
    "c = a1%2==0"
   ]
  },
  {
   "cell_type": "code",
   "execution_count": 60,
   "id": "b75887a4-0f70-44f9-8667-8679aa4def0f",
   "metadata": {},
   "outputs": [
    {
     "name": "stdout",
     "output_type": "stream",
     "text": [
      "There are 8 positive, even numbers in the array\n"
     ]
    }
   ],
   "source": [
    "print(\"There are\",np.sum(c>0),\"positive, even numbers in the array\")"
   ]
  },
  {
   "cell_type": "markdown",
   "id": "73735266-2736-4459-a6e6-43d2f0c2ef77",
   "metadata": {},
   "source": [
    "### Four"
   ]
  },
  {
   "cell_type": "code",
   "execution_count": 61,
   "id": "979227c7-4c1d-441c-ada3-4b9981a13dd4",
   "metadata": {},
   "outputs": [],
   "source": [
    "d = a1 + 3"
   ]
  },
  {
   "cell_type": "code",
   "execution_count": 62,
   "id": "ab465821-e8be-4697-8849-3fa19f8782e3",
   "metadata": {},
   "outputs": [
    {
     "name": "stdout",
     "output_type": "stream",
     "text": [
      "There are 10 positive numbers in the array if 3 is added to each\n"
     ]
    }
   ],
   "source": [
    "print(\"There are\",np.sum(d>0),\"positive numbers in the array if 3 is added to each\")"
   ]
  },
  {
   "cell_type": "markdown",
   "id": "4b3156f1-c213-47ef-85e2-a76f51191790",
   "metadata": {},
   "source": [
    "## Five"
   ]
  },
  {
   "cell_type": "code",
   "execution_count": 63,
   "id": "e2f8acd7-c01d-4d7c-a02c-34556dad8b00",
   "metadata": {},
   "outputs": [
    {
     "data": {
      "text/plain": [
       "array([ 16, 100, 144, 529,   4,   1,   0,   0,   0,  36,   9,  49])"
      ]
     },
     "execution_count": 63,
     "metadata": {},
     "output_type": "execute_result"
    }
   ],
   "source": [
    "a1 ** 2\n"
   ]
  },
  {
   "cell_type": "code",
   "execution_count": 64,
   "id": "ec76fcaf-7f78-4070-8261-7095a0c66c76",
   "metadata": {},
   "outputs": [
    {
     "name": "stdout",
     "output_type": "stream",
     "text": [
      "74.0\n",
      "144.0243035046516\n"
     ]
    }
   ],
   "source": [
    "e = a1 ** 2\n",
    "print(np.mean(e))\n",
    "print(np.std(e))"
   ]
  },
  {
   "cell_type": "code",
   "execution_count": 65,
   "id": "2f8784b6-a5f1-4149-9df9-81ac09620ec9",
   "metadata": {},
   "outputs": [
    {
     "name": "stdout",
     "output_type": "stream",
     "text": [
      "The new mean and standard deviation for our array are 74.0 & 144.02\n"
     ]
    }
   ],
   "source": [
    "print('The new mean and standard deviation for our array are', np.mean(e),'&',round(np.std(e),2))"
   ]
  },
  {
   "cell_type": "markdown",
   "id": "9be1ec3a-f110-4bb5-a756-ee08d1e8eaf7",
   "metadata": {},
   "source": [
    "## Six"
   ]
  },
  {
   "cell_type": "code",
   "execution_count": 66,
   "id": "19324845-1865-46ba-8c4e-d85c3eb01a5d",
   "metadata": {},
   "outputs": [],
   "source": [
    "centering = lambda x: x - x.mean()\n",
    "f = centering(a1)"
   ]
  },
  {
   "cell_type": "code",
   "execution_count": 67,
   "id": "d24a09b2-bdc9-4c78-a2bf-748a7d4e828e",
   "metadata": {},
   "outputs": [
    {
     "name": "stdout",
     "output_type": "stream",
     "text": [
      "The centered array is as below\n",
      " [  1.   7.   9.  20.  -5.  -4.  -3.  -3.  -3.  -9.   0. -10.]\n"
     ]
    }
   ],
   "source": [
    "print('The centered array is as below\\n',f)"
   ]
  },
  {
   "cell_type": "markdown",
   "id": "b81b0b3c-e29f-4539-b2b8-d8f816b481d3",
   "metadata": {},
   "source": [
    "## Seven"
   ]
  },
  {
   "cell_type": "code",
   "execution_count": 68,
   "id": "7029ca2f-e95d-4ad9-b313-7a1d2890d946",
   "metadata": {},
   "outputs": [],
   "source": [
    "# z-score is a means of standardizing standard deviations between any and all \n",
    "# samples for scientiffic analysis to determine significance of findings\n",
    "z = np.mean(a1)/np.std(a1)"
   ]
  },
  {
   "cell_type": "code",
   "execution_count": 69,
   "id": "cb5ad41c-37d1-4883-bef3-04675c457bc7",
   "metadata": {},
   "outputs": [
    {
     "name": "stdout",
     "output_type": "stream",
     "text": [
      "The z score for the array is 0.372\n"
     ]
    }
   ],
   "source": [
    "print('The z score for the array is',round(z,3))"
   ]
  },
  {
   "cell_type": "markdown",
   "id": "b0b5d10c-e985-4eef-9bbb-f5ee023c7c87",
   "metadata": {},
   "source": [
    "## Eight"
   ]
  },
  {
   "cell_type": "markdown",
   "id": "c4a4faec-0d7f-4ccb-a0ce-ca7305b8215a",
   "metadata": {},
   "source": [
    "### Setup 1"
   ]
  },
  {
   "cell_type": "code",
   "execution_count": 161,
   "id": "55176fa2-543a-4e84-9712-c51ae9e7ca03",
   "metadata": {},
   "outputs": [],
   "source": [
    "a2 = [1, 2, 3, 4, 5, 6, 7, 8, 9, 10]"
   ]
  },
  {
   "cell_type": "code",
   "execution_count": 97,
   "id": "e466e689-b260-40b6-b79a-cf0ee5a44105",
   "metadata": {},
   "outputs": [
    {
     "name": "stdout",
     "output_type": "stream",
     "text": [
      "Setup 1 number 1 55\n"
     ]
    }
   ],
   "source": [
    "sum_of_a2 = np.sum(a2)\n",
    "print('Setup 1 number 1',sum_of_a2)"
   ]
  },
  {
   "cell_type": "code",
   "execution_count": 98,
   "id": "07b60b8a-020e-49af-a448-d36c985108f6",
   "metadata": {},
   "outputs": [
    {
     "name": "stdout",
     "output_type": "stream",
     "text": [
      "Setup 1 number 2 1\n"
     ]
    }
   ],
   "source": [
    "min_of_a2 = np.min(a2)\n",
    "print('Setup 1 number 2',min_of_a2)"
   ]
  },
  {
   "cell_type": "code",
   "execution_count": 99,
   "id": "496f63ba-6c39-4179-83a7-d1d9e055b938",
   "metadata": {},
   "outputs": [
    {
     "name": "stdout",
     "output_type": "stream",
     "text": [
      "Setup 1 number 3 10\n"
     ]
    }
   ],
   "source": [
    "max_of_a2 = np.max(a2)\n",
    "print('Setup 1 number 3',max_of_a2)"
   ]
  },
  {
   "cell_type": "code",
   "execution_count": 100,
   "id": "1d830254-b3ea-4183-8abf-40798d24ca5c",
   "metadata": {},
   "outputs": [
    {
     "name": "stdout",
     "output_type": "stream",
     "text": [
      "Setup 1 number 4 5.5\n"
     ]
    }
   ],
   "source": [
    "mean_of_a2 = np.mean(a2)\n",
    "print('Setup 1 number 4',mean_of_a2)"
   ]
  },
  {
   "cell_type": "code",
   "execution_count": 101,
   "id": "274ef38c-b2b2-47dc-8e80-ee88ff54357d",
   "metadata": {},
   "outputs": [
    {
     "name": "stdout",
     "output_type": "stream",
     "text": [
      "Setup 1 number 5 3628800\n"
     ]
    }
   ],
   "source": [
    "product_of_a2 = np.product(a2)\n",
    "print('Setup 1 number 5',product_of_a2)"
   ]
  },
  {
   "cell_type": "code",
   "execution_count": 102,
   "id": "f3ce8d45-e99d-4495-89b6-bf1ea2c4483d",
   "metadata": {},
   "outputs": [
    {
     "name": "stdout",
     "output_type": "stream",
     "text": [
      "Setup 1 number 6 [  1   4   9  16  25  36  49  64  81 100]\n"
     ]
    }
   ],
   "source": [
    "squares_of_a2 = np.square(a2)\n",
    "print('Setup 1 number 6',squares_of_a2)"
   ]
  },
  {
   "cell_type": "code",
   "execution_count": 105,
   "id": "5b023244-2662-4fde-ad03-107b40dc47e1",
   "metadata": {},
   "outputs": [
    {
     "name": "stdout",
     "output_type": "stream",
     "text": [
      "Setup 1 number 7 [1 3 5 7 9]\n"
     ]
    }
   ],
   "source": [
    "odds_in_a2 = np.mod(a2,2)!=0\n",
    "print('Setup 1 number 7',np.array(a2)[odds_in_a2])"
   ]
  },
  {
   "cell_type": "code",
   "execution_count": 104,
   "id": "655e1c22-8f91-4b1f-b15d-d7a9b270b03c",
   "metadata": {},
   "outputs": [
    {
     "name": "stdout",
     "output_type": "stream",
     "text": [
      "Setup 1 number 8 [ 2  4  6  8 10]\n"
     ]
    }
   ],
   "source": [
    "evens_in_a2 = np.mod(a2,2)==0\n",
    "print('Setup 1 number 8',np.array(a2)[evens_in_a2])"
   ]
  },
  {
   "cell_type": "markdown",
   "id": "6963d5fa-248b-415a-bf30-b119cf8e6d32",
   "metadata": {},
   "source": [
    "### Setup 2"
   ]
  },
  {
   "cell_type": "code",
   "execution_count": 114,
   "id": "58c54371-051c-4cdf-8637-2fb828e2b9ae",
   "metadata": {},
   "outputs": [],
   "source": [
    "b1 = [\n",
    "    [3,4,5],\n",
    "    [6,7,8]\n",
    "]\n",
    "b2 = np.array(b1)"
   ]
  },
  {
   "cell_type": "markdown",
   "id": "b0d0e7ef-bb79-4b83-a2e0-9351ba4d0497",
   "metadata": {},
   "source": [
    "exercise 1"
   ]
  },
  {
   "cell_type": "code",
   "execution_count": 118,
   "id": "1c4f618f-a1f7-407e-baa0-56de0a3a86b5",
   "metadata": {},
   "outputs": [
    {
     "name": "stdout",
     "output_type": "stream",
     "text": [
      "33\n"
     ]
    }
   ],
   "source": [
    "# summing each item in the list of lists\n",
    "sum_of_b = 0\n",
    "for row in b1:\n",
    "    sum_of_b += sum(row)\n",
    "print(sum_of_b)"
   ]
  },
  {
   "cell_type": "code",
   "execution_count": 119,
   "id": "df6505ee-d039-4ad5-a021-4225aa54e9f5",
   "metadata": {},
   "outputs": [
    {
     "name": "stdout",
     "output_type": "stream",
     "text": [
      "33\n"
     ]
    }
   ],
   "source": [
    "print(b2.sum())"
   ]
  },
  {
   "cell_type": "markdown",
   "id": "0f816c2f-da04-4769-b975-898e23802a34",
   "metadata": {},
   "source": [
    "exercise 2"
   ]
  },
  {
   "cell_type": "code",
   "execution_count": 120,
   "id": "e9fb722a-c44b-47a7-8d3e-91197d6b0c4f",
   "metadata": {},
   "outputs": [
    {
     "name": "stdout",
     "output_type": "stream",
     "text": [
      "3\n"
     ]
    }
   ],
   "source": [
    "min_of_b = min(b1[0]) if min(b1[0]) <= min(b1[1]) else min(b1[1])  \n",
    "print(min_of_b)"
   ]
  },
  {
   "cell_type": "code",
   "execution_count": 121,
   "id": "a4fefe41-96d8-4c21-b824-175d8324654a",
   "metadata": {},
   "outputs": [
    {
     "name": "stdout",
     "output_type": "stream",
     "text": [
      "3\n"
     ]
    }
   ],
   "source": [
    "print(b2.min())"
   ]
  },
  {
   "cell_type": "markdown",
   "id": "208b6b25-c84d-47f4-815a-743502d5e366",
   "metadata": {},
   "source": [
    "exercise 3"
   ]
  },
  {
   "cell_type": "code",
   "execution_count": 122,
   "id": "1b7c9d06-44fa-479a-bf35-e5b8d7e95232",
   "metadata": {},
   "outputs": [
    {
     "name": "stdout",
     "output_type": "stream",
     "text": [
      "8\n"
     ]
    }
   ],
   "source": [
    "max_of_b = max(b1[0]) if max(b1[0]) >= max(b1[1]) else max(b1[1])\n",
    "print(max_of_b)"
   ]
  },
  {
   "cell_type": "code",
   "execution_count": 123,
   "id": "d415b742-a1a4-45c6-a7ef-e76b5127d729",
   "metadata": {},
   "outputs": [
    {
     "name": "stdout",
     "output_type": "stream",
     "text": [
      "8\n"
     ]
    }
   ],
   "source": [
    "print(b2.max())"
   ]
  },
  {
   "cell_type": "markdown",
   "id": "88ae6dac-901c-4375-8e6c-24d05ae0f294",
   "metadata": {},
   "source": [
    "exercise 4"
   ]
  },
  {
   "cell_type": "code",
   "execution_count": 124,
   "id": "e9811e90-609c-4d1e-a7df-51fd97de632b",
   "metadata": {},
   "outputs": [
    {
     "name": "stdout",
     "output_type": "stream",
     "text": [
      "5.5\n"
     ]
    }
   ],
   "source": [
    "print(b2.mean())"
   ]
  },
  {
   "cell_type": "markdown",
   "id": "4d95b8af-6dab-4f34-9472-34fc471318cf",
   "metadata": {},
   "source": [
    "exercise 5"
   ]
  },
  {
   "cell_type": "code",
   "execution_count": 126,
   "id": "8077f46c-2942-454a-97ac-38917d19a048",
   "metadata": {},
   "outputs": [
    {
     "name": "stdout",
     "output_type": "stream",
     "text": [
      "20160\n"
     ]
    }
   ],
   "source": [
    "print(b2.prod())"
   ]
  },
  {
   "cell_type": "markdown",
   "id": "6c07520e-d1b3-46a9-ac95-38575bfb6000",
   "metadata": {},
   "source": [
    "exercise 6"
   ]
  },
  {
   "cell_type": "code",
   "execution_count": 129,
   "id": "62f4a2c9-3ebe-4e7d-baf9-4b9b0a74bfa5",
   "metadata": {},
   "outputs": [
    {
     "name": "stdout",
     "output_type": "stream",
     "text": [
      "[[ 9 16 25]\n",
      " [36 49 64]]\n"
     ]
    }
   ],
   "source": [
    "print(b2 ** 2)"
   ]
  },
  {
   "cell_type": "markdown",
   "id": "8d7cb1cf-33d5-45a3-8430-c404f0713115",
   "metadata": {},
   "source": [
    "exercise 7"
   ]
  },
  {
   "cell_type": "code",
   "execution_count": 132,
   "id": "65f221ef-2118-4382-ab2b-a2e9a0bcee19",
   "metadata": {},
   "outputs": [
    {
     "name": "stdout",
     "output_type": "stream",
     "text": [
      "[3 5 7]\n"
     ]
    }
   ],
   "source": [
    "print(b2[b2 % 2 != 0])"
   ]
  },
  {
   "cell_type": "markdown",
   "id": "be0b22bd-53b2-46db-939d-54c585ed6bc8",
   "metadata": {},
   "source": [
    "exercise 8"
   ]
  },
  {
   "cell_type": "code",
   "execution_count": 134,
   "id": "4d0f0ac8-a606-4811-baea-19c6ef367eba",
   "metadata": {},
   "outputs": [
    {
     "name": "stdout",
     "output_type": "stream",
     "text": [
      "[4 6 8]\n"
     ]
    }
   ],
   "source": [
    "print(b2[b2 % 2 == 0])"
   ]
  },
  {
   "cell_type": "markdown",
   "id": "717f7624-135f-42fa-918e-8302073ff321",
   "metadata": {},
   "source": [
    "exercise 9"
   ]
  },
  {
   "cell_type": "code",
   "execution_count": 138,
   "id": "68da081f-0827-49b7-a5e6-bf44a8f36ff1",
   "metadata": {},
   "outputs": [
    {
     "name": "stdout",
     "output_type": "stream",
     "text": [
      "(2, 3)\n"
     ]
    }
   ],
   "source": [
    "print(np.shape(b2))"
   ]
  },
  {
   "cell_type": "markdown",
   "id": "7750eaa7-15d8-4d8e-82a4-d731ab2007e1",
   "metadata": {
    "tags": []
   },
   "source": [
    "exercise 10"
   ]
  },
  {
   "cell_type": "code",
   "execution_count": 140,
   "id": "ba761502-32dc-4df5-9b32-8fad581038c9",
   "metadata": {},
   "outputs": [
    {
     "name": "stdout",
     "output_type": "stream",
     "text": [
      "[[3 6]\n",
      " [4 7]\n",
      " [5 8]]\n"
     ]
    }
   ],
   "source": [
    "print(np.transpose(b2))"
   ]
  },
  {
   "cell_type": "markdown",
   "id": "1f6b9e56-f9cf-4675-bacc-938015ade735",
   "metadata": {},
   "source": [
    "exercise 11"
   ]
  },
  {
   "cell_type": "code",
   "execution_count": 142,
   "id": "94a24406-99ec-40e2-9d4f-adef2a554b59",
   "metadata": {},
   "outputs": [
    {
     "name": "stdout",
     "output_type": "stream",
     "text": [
      "[[3 4 5 6 7 8]]\n"
     ]
    }
   ],
   "source": [
    "print(b2.reshape(1,6))"
   ]
  },
  {
   "cell_type": "markdown",
   "id": "224c2127-756d-48f7-9da6-d00763b05acb",
   "metadata": {},
   "source": [
    "exercise 12"
   ]
  },
  {
   "cell_type": "markdown",
   "id": "47f3c498-d330-42a9-acad-c4b52e507fb6",
   "metadata": {},
   "source": [
    "### Setup 3"
   ]
  },
  {
   "cell_type": "code",
   "execution_count": 144,
   "id": "6ab9ee74-0a22-42b5-82fb-7d2de39fb9eb",
   "metadata": {},
   "outputs": [],
   "source": [
    "c = [\n",
    "    [1, 2, 3],\n",
    "    [4, 5, 6],\n",
    "    [7, 8, 9]\n",
    "]\n",
    "c1 = np.array(c)"
   ]
  },
  {
   "cell_type": "markdown",
   "id": "a8c86510-ee84-4533-8c8b-8994698a4b5e",
   "metadata": {},
   "source": [
    "Exercise 1"
   ]
  },
  {
   "cell_type": "code",
   "execution_count": 146,
   "id": "3c5daaef-6885-4d9e-b9b6-31a54c72ac40",
   "metadata": {},
   "outputs": [
    {
     "name": "stdout",
     "output_type": "stream",
     "text": [
      "1 9 362880 45\n"
     ]
    }
   ],
   "source": [
    "print(c1.min(), c1.max(), c1.prod(), c1.sum())"
   ]
  },
  {
   "cell_type": "markdown",
   "id": "db5e6f21-d955-46cc-8be6-ad977aeb878e",
   "metadata": {},
   "source": [
    "Exercise 2"
   ]
  },
  {
   "cell_type": "code",
   "execution_count": 148,
   "id": "80f6e278-86a9-466f-a98a-d1e8e09fd0e3",
   "metadata": {},
   "outputs": [
    {
     "data": {
      "text/plain": [
       "2.581988897471611"
      ]
     },
     "execution_count": 148,
     "metadata": {},
     "output_type": "execute_result"
    }
   ],
   "source": [
    "c1.std()"
   ]
  },
  {
   "cell_type": "markdown",
   "id": "770084b4-0728-4c8c-8551-32174b742e81",
   "metadata": {},
   "source": [
    "Exercise 3"
   ]
  },
  {
   "cell_type": "code",
   "execution_count": 149,
   "id": "2df2c770-216f-4eba-aa67-b05f61784a36",
   "metadata": {},
   "outputs": [
    {
     "data": {
      "text/plain": [
       "6.666666666666667"
      ]
     },
     "execution_count": 149,
     "metadata": {},
     "output_type": "execute_result"
    }
   ],
   "source": [
    "c1.var()"
   ]
  },
  {
   "cell_type": "markdown",
   "id": "6c9bde3a-d7f3-4cfd-9eb9-c7d30eba1807",
   "metadata": {},
   "source": [
    "Exercise 4"
   ]
  },
  {
   "cell_type": "code",
   "execution_count": 151,
   "id": "3833cdc8-5dff-43eb-a15c-c43d418b3acd",
   "metadata": {},
   "outputs": [
    {
     "data": {
      "text/plain": [
       "(3, 3)"
      ]
     },
     "execution_count": 151,
     "metadata": {},
     "output_type": "execute_result"
    }
   ],
   "source": [
    "c1.shape"
   ]
  },
  {
   "cell_type": "markdown",
   "id": "21756cf7-af5f-4582-8d82-389249d39963",
   "metadata": {},
   "source": [
    "exercise 5"
   ]
  },
  {
   "cell_type": "code",
   "execution_count": 154,
   "id": "b070415f-f9ff-4817-8185-cec66d383ba8",
   "metadata": {},
   "outputs": [
    {
     "data": {
      "text/plain": [
       "array([[1, 4, 7],\n",
       "       [2, 5, 8],\n",
       "       [3, 6, 9]])"
      ]
     },
     "execution_count": 154,
     "metadata": {},
     "output_type": "execute_result"
    }
   ],
   "source": [
    "c1.transpose()"
   ]
  },
  {
   "cell_type": "markdown",
   "id": "620fc44c-1bbe-4a5a-a6d8-bc7a4e0e038d",
   "metadata": {
    "tags": []
   },
   "source": [
    "exercise 6"
   ]
  },
  {
   "cell_type": "code",
   "execution_count": 156,
   "id": "4277df10-84a0-48cb-a826-f99e8b8525d8",
   "metadata": {},
   "outputs": [
    {
     "data": {
      "text/plain": [
       "array([[ 30,  36,  42],\n",
       "       [ 66,  81,  96],\n",
       "       [102, 126, 150]])"
      ]
     },
     "execution_count": 156,
     "metadata": {},
     "output_type": "execute_result"
    }
   ],
   "source": [
    "np.dot(c1,c1)"
   ]
  },
  {
   "cell_type": "markdown",
   "id": "3125331e-1acf-4e2c-ba83-69331b42a517",
   "metadata": {},
   "source": [
    "exercise 7"
   ]
  },
  {
   "cell_type": "code",
   "execution_count": 157,
   "id": "e501e20f-7502-4e43-9f2e-01ff324cf839",
   "metadata": {},
   "outputs": [
    {
     "data": {
      "text/plain": [
       "261"
      ]
     },
     "execution_count": 157,
     "metadata": {},
     "output_type": "execute_result"
    }
   ],
   "source": [
    "np.sum(c1 * c1.transpose())"
   ]
  },
  {
   "cell_type": "markdown",
   "id": "d5c264f4-b9be-4b2b-ac9e-5df4af8e6998",
   "metadata": {},
   "source": [
    "exercise 8"
   ]
  },
  {
   "cell_type": "code",
   "execution_count": 158,
   "id": "1f2697a0-f7b2-44c0-b58e-0bcd348700a7",
   "metadata": {},
   "outputs": [
    {
     "data": {
      "text/plain": [
       "131681894400"
      ]
     },
     "execution_count": 158,
     "metadata": {},
     "output_type": "execute_result"
    }
   ],
   "source": [
    "np.prod(c1 * c1.transpose())"
   ]
  },
  {
   "cell_type": "code",
   "execution_count": null,
   "id": "06f3ebd5-a404-428b-bd7e-9256283efe9a",
   "metadata": {},
   "outputs": [],
   "source": []
  }
 ],
 "metadata": {
  "kernelspec": {
   "display_name": "Python 3 (ipykernel)",
   "language": "python",
   "name": "python3"
  },
  "language_info": {
   "codemirror_mode": {
    "name": "ipython",
    "version": 3
   },
   "file_extension": ".py",
   "mimetype": "text/x-python",
   "name": "python",
   "nbconvert_exporter": "python",
   "pygments_lexer": "ipython3",
   "version": "3.10.6"
  }
 },
 "nbformat": 4,
 "nbformat_minor": 5
}
